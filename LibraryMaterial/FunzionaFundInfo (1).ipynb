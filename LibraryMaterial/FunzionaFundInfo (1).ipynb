{
 "cells": [
  {
   "cell_type": "code",
   "execution_count": 7,
   "id": "404ee111-fd2b-4714-98b7-3a1beb27daf8",
   "metadata": {},
   "outputs": [
    {
     "name": "stdout",
     "output_type": "stream",
     "text": [
      "funziona output.txt\n"
     ]
    }
   ],
   "source": [
    "#CODICE FUNZIONA PER DIVIDERE LE COLONNE E PRODURRE UN NUOVO FILE TXT\n",
    "#funziona anche con catalogoNoHeader (ho tolto con un processsore per pdf\n",
    "import fitz\n",
    "\n",
    "\n",
    "CATALOGO = \"CatalogoCutProva1NoHeader.pdf\"\n",
    "OUTPUT_FILE = \"output.txt\"\n",
    "\n",
    "#Apre il file output con UTF-8 encoding\n",
    "with open(OUTPUT_FILE, \"w\", encoding=\"utf-8\") as file:\n",
    "\n",
    "    \n",
    "    #\"text\" è il parametro per l'OCR\n",
    "    with fitz.open(CATALOGO) as doc:\n",
    "        for page in doc:\n",
    "            text = page.get_text(\"text\")\n",
    "            \n",
    "            #Mette nel file\n",
    "            file.write(text)\n",
    "\n",
    "# Se funziona conferma \n",
    "print( f\"funziona {OUTPUT_FILE}\")\n"
   ]
  },
  {
   "cell_type": "code",
   "execution_count": 8,
   "id": "6493370e-e0b8-41c0-9365-af2c5bd342cf",
   "metadata": {},
   "outputs": [],
   "source": [
    "import re\n",
    "\n",
    "# legge il txt come string\n",
    "with open(\"output.txt\", encoding=\"UTF-8\") as f:\n",
    "    corpora = f.read()\n",
    "\n",
    "\n",
    "# toglie spazi, tabs e newline\n",
    "re.sub('\\s{2,}', ' ', corpora)\n",
    "re.sub('\\t+', ' ', corpora)\n",
    "re.sub('\\n+', '', corpora)\n",
    "\n",
    "\n",
    "# toglie i numeri tra []\n",
    "txt = re.split(r'\\[\\d*\\s*\\w*\\s*[^\\]]*\\]', corpora)\n",
    "#print(txt)\n",
    "\n",
    "\n",
    "#splitta la stringa in due prima dell'informazione sul fondo di conservazione\n",
    "result = []\n",
    "for book in txt:\n",
    "    BibInfo = re.split(r'\\n(?=BTB)|\\n(?=BAC)|\\n(?=BAL)|\\n(?=BTM)', book)\n",
    "    \n",
    "    BibInfo = [i for i in BibInfo if i] # remove empty strings\n",
    "    #print(BibInfo)\n",
    "    result.append(BibInfo)\n",
    "    #print(result)\n",
    "\n",
    "#toglie la prima list dove c'era VOLUMI ecc\n",
    "del result[0]\n",
    "#print(result)\n",
    "\n",
    "\n",
    "\n",
    "# Extract the first sublists of each list using a list comprehension\n",
    "#BOOKINFO contains info about the book: author, title, city, publisher and year\n",
    "BookInfo = [lst[0] for lst in result]\n",
    "#print(BookInfo)\n",
    "\n",
    "# Extract the second sublists of each list using a list comprehension\n",
    "#FUNDINFO CONTAINS THE INFO ABOUT THE CONSERVATION FUND\n",
    "FundInfo = [sublist[1] for sublist in result if len(sublist) >= 2]\n",
    "#print(FundInfo)"
   ]
  },
  {
   "cell_type": "code",
   "execution_count": 9,
   "id": "99573840-d346-4c68-bb13-63b7476b634d",
   "metadata": {},
   "outputs": [],
   "source": [
    "#toglie \\n dalla fine della stringa\n",
    "FundInfo = [s.rstrip(\"\\n\") for s in FundInfo]\n",
    "\n",
    "#print(FundInfo)\n"
   ]
  },
  {
   "cell_type": "code",
   "execution_count": 11,
   "id": "65be978c-3b4c-4ac7-b930-2d0cfff44386",
   "metadata": {},
   "outputs": [
    {
     "ename": "IndexError",
     "evalue": "list index out of range",
     "output_type": "error",
     "traceback": [
      "\u001b[1;31m---------------------------------------------------------------------------\u001b[0m",
      "\u001b[1;31mIndexError\u001b[0m                                Traceback (most recent call last)",
      "Input \u001b[1;32mIn [11]\u001b[0m, in \u001b[0;36m<module>\u001b[1;34m\u001b[0m\n\u001b[0;32m     16\u001b[0m \u001b[38;5;28;01mfor\u001b[39;00m i \u001b[38;5;129;01min\u001b[39;00m \u001b[38;5;28mrange\u001b[39m(\u001b[38;5;28mlen\u001b[39m(FundInfo)):\n\u001b[0;32m     17\u001b[0m     \u001b[38;5;28;01mfor\u001b[39;00m substring \u001b[38;5;129;01min\u001b[39;00m result:\n\u001b[1;32m---> 18\u001b[0m         Fund[i] \u001b[38;5;241m=\u001b[39m \u001b[43mFund\u001b[49m\u001b[43m[\u001b[49m\u001b[43mi\u001b[49m\u001b[43m]\u001b[49m\u001b[38;5;241m.\u001b[39mreplace(substring, \u001b[38;5;124m\"\u001b[39m\u001b[38;5;124m\"\u001b[39m)\n",
      "\u001b[1;31mIndexError\u001b[0m: list index out of range"
     ]
    }
   ],
   "source": [
    "#METE LE INFO SUI SEGNI DI LETTURA IN UNA LISTA MA SE PER UN LIBRONON CI SONO INFO SCRIVE NAN\n",
    "#CREA UNA NUOVA LISTA \n",
    "segniLettura = []\n",
    "\n",
    "for string in FundInfo:\n",
    "    index = string.find('\\n')\n",
    "    if index != -1 and index < len(string) - 1:\n",
    "        content = string[index + 1:].strip()\n",
    "        segniLettura.append(content)\n",
    "    else:\n",
    "        segniLettura.append('nan')\n",
    "\n",
    "#print(segniLettura)\n",
    "\n",
    "Fund = []\n",
    "for i in range(len(FundInfo)):\n",
    "    for substring in result:\n",
    "        Fund[i] = Fund[i].replace(substring, \"\")\n",
    "#print(FundInfo)"
   ]
  },
  {
   "cell_type": "code",
   "execution_count": null,
   "id": "dde94217-84bf-47d5-a4d5-85e88e7f2f55",
   "metadata": {},
   "outputs": [],
   "source": [
    "# Import pandas library\n",
    "import pandas as pd\n",
    "  \n",
    "# initialize list elements\n",
    "data = list(zip(fund, segniLettura))\n",
    "\n",
    "df = pd.DataFrame(data, columns=['Fund', 'Segni'])\n",
    "display(df)\n",
    "\n",
    "\n",
    "df.to_csv('output.csv', index=False, encoding='utf-8')\n",
    "\n",
    "\n",
    "\n",
    "df.to_csv('output.csv', sep=';')  # Replace ';' with the desired delimiter\n",
    "\n"
   ]
  },
  {
   "cell_type": "code",
   "execution_count": null,
   "id": "67f93062-8e97-431e-b2a1-aa0bf4bbd7e9",
   "metadata": {},
   "outputs": [],
   "source": []
  }
 ],
 "metadata": {
  "kernelspec": {
   "display_name": "Python 3 (ipykernel)",
   "language": "python",
   "name": "python3"
  },
  "language_info": {
   "codemirror_mode": {
    "name": "ipython",
    "version": 3
   },
   "file_extension": ".py",
   "mimetype": "text/x-python",
   "name": "python",
   "nbconvert_exporter": "python",
   "pygments_lexer": "ipython3",
   "version": "3.10.0"
  }
 },
 "nbformat": 4,
 "nbformat_minor": 5
}
