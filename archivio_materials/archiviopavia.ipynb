{
 "cells": [
  {
   "cell_type": "markdown",
   "metadata": {},
   "source": [
    "# Archivio Centro Manoscritto Pavia\n",
    "\n",
    "After having separated from the full text (*L'ARCHIVIO DEGLI ARCHIVI*) the part regarding this specific archive, I then turned it into a .txt separately and modified with all the specific symbols expressed in the original dissertation.\n",
    "\n",
    "I then operated onto uploading it and then I split it through the ReGex *'\\n'*, creating a list."
   ]
  },
  {
   "cell_type": "code",
   "execution_count": 1,
   "metadata": {},
   "outputs": [],
   "source": [
    "import re\n",
    "with open('archiviopavia.txt') as f:\n",
    "  content = f.read()\n",
    "import pandas as pd\n",
    "\n",
    "from pandas import read_csv, Series"
   ]
  },
  {
   "cell_type": "code",
   "execution_count": 2,
   "metadata": {},
   "outputs": [
    {
     "name": "stdout",
     "output_type": "stream",
     "text": [
      "[\"1/3 Gadda, Carlo Emilio. [B] La Madonna dei Filosofi : novella borghese / Carlo Emilio Gadda. – Seconda stesura. – settembre *1928*. – 59 ff. mss. distinti in due blocchi num. d'A. 1-39 e 1-20 mg. sup. dx. (recto, anche verso f. 13 del 1° blocco e ff. 4 e 12 del 2°) inchiostro nero con varianti anche a matita di vari colori num. d'A. 1-39 e 1-20 ; 285x225 mm Fa parte di: [La Madonna dei Filosofi] B] La Madonna dei Filosofi : novella borghese / Carlo Emilio Gadda. – Seconda stesura. – settembre 1928. – 59 ff. mss. distinti in due blocchi num. d'A. 1-39 e 1-20 mg. sup. dx. (recto, anche verso f. 13 del 1° blocco e ff. 4 e 12 del 2°) inchiostro nero con varianti anche a matita di vari colori num. d'A. 1-39 e 1-20 ; 285x225 mm l'ultimo f., datato 10 ottobre 1928 reca una dicitura autografa in cui Gadda definisce questo il «manoscritto definitivo» della novella, stesa nel settembre 1928. – Alcune correzioni sono apportate su cartigli incollati ai fogli Sommario: [Si tratta di una successiva stesura, dalla scrittura più fluida rispetto alla predente, ma ancora piuttosto tormentata] Forma: [Narrativa] Natura: [Ms. con correzioni e varianti (originale)] Incipit: [Mi rincresce di cadere nel convenzionale, ma è proprio andata così] Stato di conservazione: [discreto] Bibliografia: Schedata nel Catalogo del Fondo Manoscritti, Torino, Einaudi, 1982 p. 69-74\", \"2/3 Gadda, Carlo Emilio. La Madonna dei filosofi : racconti / Carlo Emilio Gadda. – Firenze : Edizioni di Solaria, *1931*. – 167 p. ; 20 cm. – (Edizioni di Solaria ; 20) Fa parte di: [La Madonna dei Filosofi] La Madonna dei filosofi : racconti / Carlo Emilio Gadda. – Firenze : Edizioni di Solaria, 1931. – 167 p. ; 20 cm. – (Edizioni di Solaria ; 20)L'esemplare posseduto, non rilegato, è quello appartenuto all'autore e oltre a numerose postille autografe in inch. nero, penna sf. blu e rossa e matita, reca sul foglio di guardia la seguente dicitura autografa inch. nero: «Questo è il primo esemplare, (o 'esemplare di macchina'), ancora non inquadernato, della Madonna dei Filosofi. – (aprile 1931.) – Carlo Emilio Gadda. – (Nota del 1933 in Longone.) – C. E. G. -». – Inoltre l'esemplare è firmato sulla copertina Fa parte di: La Madonna dei Filosofi Collana: [Edizioni di Solaria]\", \"3/3 Gadda, Carlo Emilio. [A] La Madonna dei Filosofi / Carlo Emilio Gadda. – Prima stesura incompleta. – 1928. – 16 ff. mss. (recto, anche verso i ff. 3, 5-7, 12, 13, 16) inchiostro nero con varianti anche a matita di vari colori num. d'A. irregolare ; 285x225 mm, ad eccezione dei ff 12-16 protocollo a righe 305x195 mm Fa parte di: [La Madonna dei Filosofi] [A] La Madonna dei Filosofi / Carlo Emilio Gadda. – Prima stesura incompleta. – 1928. – 16 ff. mss. (recto, anche verso i ff. 3, 5-7, 12, 13, 16) inchiostro nero con varianti anche a matita di vari colori num. d'A. irregolare ; 285x225 mm, ad eccezione dei ff 12-16 protocollo a righe 305x195 mm Allegata busta con dicitura autografa «Carlo Emilio Gadda / Manoscritto di La Madonna dei Filosofi / 1928 / La Madonna dei filosofi / Riordinamento 1933 – /Carlo Emilio Gadda» Sommario:[Si tratta di una prima stesura del capitolo IV, molto tormentata e piena di ripensamenti] Forma: [Narrativa] Natura: [Ms. con correzioni e varianti (originale)] Incipit: [Mi riferisco sempre al 1922] Stato di conservazione: [discreto] Bibliografia: Schedata nel Catalogo del Fondo Manoscritti, Torino, Einaudi, 1982 p. 69\", '1/11 Gadda, Carlo Emilio [Corrispondenza] / Carlo Emilio Gadda [a] Silvio Guarnieri. – 26 luglio 1931-28 settembre 1968. (Luglio-settembre *1931-1968* – 220 unità : 83 lett., 92 cart.post., 39 cart. ill., 1 bigl., 4 telegr., 1 manifestino funebre Forma: [Corrispondenza] Natura: [Autografi, firmati, dattiloscritti, firmati (originale)] Provenienza: Dono eredi Guarnieri Stato di conservazione: [buono] Fa parte di: [Epistolario a Silvio Guarnieri] Altri nomi: [Guarnieri, Silvio destinatario]']\n"
     ]
    }
   ],
   "source": [
    "series = content.split('\\n') # create a list\n",
    "series = [s for s in series if s] # remove empty strings\n",
    "\n",
    "\n",
    "\n",
    "print(series)"
   ]
  },
  {
   "cell_type": "markdown",
   "metadata": {},
   "source": [
    "From here I created the DataFrame using as cells the different values of the list, the units of the archive and dubbed them under the column name *titolo*"
   ]
  },
  {
   "cell_type": "code",
   "execution_count": 3,
   "metadata": {},
   "outputs": [
    {
     "name": "stdout",
     "output_type": "stream",
     "text": [
      "                                              titolo\n",
      "0  1/3 Gadda, Carlo Emilio. [B] La Madonna dei Fi...\n",
      "1  2/3 Gadda, Carlo Emilio. La Madonna dei filoso...\n",
      "2  3/3 Gadda, Carlo Emilio. [A] La Madonna dei Fi...\n",
      "3  1/11 Gadda, Carlo Emilio [Corrispondenza] / Ca...\n"
     ]
    }
   ],
   "source": [
    "df = pd.DataFrame(series, columns=['titolo'])\n",
    "print(df)"
   ]
  },
  {
   "cell_type": "markdown",
   "metadata": {},
   "source": [
    "I then created an ID for each unit"
   ]
  },
  {
   "cell_type": "code",
   "execution_count": 5,
   "metadata": {},
   "outputs": [],
   "source": [
    "df.insert(0, 'archivio', 'Archivio Gelli')\n",
    "\n",
    "# I created an id for all the units\n",
    "\n",
    "df_list_id = []\n",
    "for idx, row in df.iterrows():\n",
    "    df_list_id.append(\"unitàgelli-\" + str(idx))\n",
    "df.insert(0, \"unitàId\", Series(df_list_id, dtype=\"string\"))\n",
    "df.insert(3, 'provenienza', 'Dono di Gian Carlo Roscioni a Maria Corti avvenuto nel 1968')\n",
    "df.insert(4, 'lingua', 'ITA Italiano')\n",
    "df.insert(5, 'tipo', 'MS 301 Fondo')"
   ]
  },
  {
   "cell_type": "markdown",
   "metadata": {},
   "source": [
    "I then extracted the year, month and day"
   ]
  },
  {
   "cell_type": "code",
   "execution_count": 6,
   "metadata": {},
   "outputs": [
    {
     "name": "stdout",
     "output_type": "stream",
     "text": [
      "        unitàId        archivio  \\\n",
      "0  unitàgelli-0  Archivio Gelli   \n",
      "1  unitàgelli-1  Archivio Gelli   \n",
      "2  unitàgelli-2  Archivio Gelli   \n",
      "3  unitàgelli-3  Archivio Gelli   \n",
      "\n",
      "                                              titolo  \\\n",
      "0  1/3 Gadda, Carlo Emilio. [B] La Madonna dei Fi...   \n",
      "1  2/3 Gadda, Carlo Emilio. La Madonna dei filoso...   \n",
      "2  3/3 Gadda, Carlo Emilio. [A] La Madonna dei Fi...   \n",
      "3  1/11 Gadda, Carlo Emilio [Corrispondenza] / Ca...   \n",
      "\n",
      "                                         provenienza        lingua  \\\n",
      "0  Dono di Gian Carlo Roscioni a Maria Corti avve...  ITA Italiano   \n",
      "1  Dono di Gian Carlo Roscioni a Maria Corti avve...  ITA Italiano   \n",
      "2  Dono di Gian Carlo Roscioni a Maria Corti avve...  ITA Italiano   \n",
      "3  Dono di Gian Carlo Roscioni a Maria Corti avve...  ITA Italiano   \n",
      "\n",
      "           tipo       anno                                    extracted_dates  \n",
      "0  MS 301 Fondo       1928  settembre-settembre, settembre-settembre, otto...  \n",
      "1  MS 301 Fondo       1931                                      aprile-aprile  \n",
      "2  MS 301 Fondo        NaN                                                     \n",
      "3  MS 301 Fondo  1931-1968  luglio-luglio, settembre-settembre, Luglio-set...  \n"
     ]
    }
   ],
   "source": [
    "\n",
    "\n",
    "year_pattern = r'\\*([0-9]{4}(?:-[0-9]{4})?)\\*'\n",
    "\n",
    "# Extract and create a new column for matched years\n",
    "df['anno'] = df['titolo'].str.extract(year_pattern)\n",
    "\n",
    "pattern = r'\\b(settembre|ottobre|novembre|dicembre|gennaio|febbraio|marzo|aprile|maggio|giugno|luglio|agosto)\\s*(-\\s*(settembre|ottobre|novembre|dicembre|gennaio|febbraio|marzo|aprile|maggio|giugno|luglio|agosto))?\\b'\n",
    "\n",
    "# Function to process matches in each row\n",
    "def process_matches(row):\n",
    "    matches = re.findall(pattern, row['titolo'], re.IGNORECASE)\n",
    "    extracted_dates = []\n",
    "    for match in matches:\n",
    "        start_month = match[0]\n",
    "        end_month = match[2] if match[2] else start_month\n",
    "        extracted_dates.append(f\"{start_month}-{end_month}\")\n",
    "    return ', '.join(extracted_dates)\n",
    "\n",
    "# Apply the process_matches function to the DataFrame\n",
    "df['extracted_dates'] = df.apply(process_matches, axis=1)\n",
    "\n",
    "print(df)"
   ]
  },
  {
   "cell_type": "markdown",
   "metadata": {},
   "source": [
    "I then extracted, through the RegEx pattern 'Forma:\\s*\\[([^\\]]+)\\]' the *forma* and removed the specific matching pattern from the original column."
   ]
  },
  {
   "cell_type": "code",
   "execution_count": 7,
   "metadata": {},
   "outputs": [
    {
     "name": "stdout",
     "output_type": "stream",
     "text": [
      "        unitàId        archivio  \\\n",
      "0  unitàgelli-0  Archivio Gelli   \n",
      "1  unitàgelli-1  Archivio Gelli   \n",
      "2  unitàgelli-2  Archivio Gelli   \n",
      "3  unitàgelli-3  Archivio Gelli   \n",
      "\n",
      "                                              titolo  \\\n",
      "0  1/3 Gadda, Carlo Emilio. [B] La Madonna dei Fi...   \n",
      "1  2/3 Gadda, Carlo Emilio. La Madonna dei filoso...   \n",
      "2  3/3 Gadda, Carlo Emilio. [A] La Madonna dei Fi...   \n",
      "3  1/11 Gadda, Carlo Emilio [Corrispondenza] / Ca...   \n",
      "\n",
      "                                         provenienza        lingua  \\\n",
      "0  Dono di Gian Carlo Roscioni a Maria Corti avve...  ITA Italiano   \n",
      "1  Dono di Gian Carlo Roscioni a Maria Corti avve...  ITA Italiano   \n",
      "2  Dono di Gian Carlo Roscioni a Maria Corti avve...  ITA Italiano   \n",
      "3  Dono di Gian Carlo Roscioni a Maria Corti avve...  ITA Italiano   \n",
      "\n",
      "           tipo       anno                                    extracted_dates  \\\n",
      "0  MS 301 Fondo       1928  settembre-settembre, settembre-settembre, otto...   \n",
      "1  MS 301 Fondo       1931                                      aprile-aprile   \n",
      "2  MS 301 Fondo        NaN                                                      \n",
      "3  MS 301 Fondo  1931-1968  luglio-luglio, settembre-settembre, Luglio-set...   \n",
      "\n",
      "    ExtractedPart  \n",
      "0       Narrativa  \n",
      "1             NaN  \n",
      "2       Narrativa  \n",
      "3  Corrispondenza  \n"
     ]
    },
    {
     "name": "stderr",
     "output_type": "stream",
     "text": [
      "/var/folders/qz/b4z_rj3s15jbrn1l_dv90b9c0000gn/T/ipykernel_2072/1156225462.py:5: FutureWarning: The default value of regex will change from True to False in a future version.\n",
      "  df['titolo'] = df['titolo'].str.replace(r'Forma:\\s*\\[([^\\]]+)\\]','').str.strip()\n"
     ]
    }
   ],
   "source": [
    "\n",
    "df['ExtractedPart'] = df['titolo'].str.extract(r'Forma:\\s*\\[([^\\]]+)\\]')\n",
    "\n",
    "df['titolo'] = df['titolo'].str.replace(r'Forma:\\s*\\[([^\\]]+)\\]','').str.strip()\n",
    "\n",
    "print(df)"
   ]
  },
  {
   "cell_type": "code",
   "execution_count": 8,
   "metadata": {},
   "outputs": [
    {
     "name": "stdout",
     "output_type": "stream",
     "text": [
      "        unitàId        archivio  \\\n",
      "0  unitàgelli-0  Archivio Gelli   \n",
      "1  unitàgelli-1  Archivio Gelli   \n",
      "2  unitàgelli-2  Archivio Gelli   \n",
      "3  unitàgelli-3  Archivio Gelli   \n",
      "\n",
      "                                              titolo  \\\n",
      "0  1/3 Gadda, Carlo Emilio. [B] La Madonna dei Fi...   \n",
      "1  2/3 Gadda, Carlo Emilio. La Madonna dei filoso...   \n",
      "2  3/3 Gadda, Carlo Emilio. [A] La Madonna dei Fi...   \n",
      "3  1/11 Gadda, Carlo Emilio [Corrispondenza] / Ca...   \n",
      "\n",
      "                                         provenienza        lingua  \\\n",
      "0  Dono di Gian Carlo Roscioni a Maria Corti avve...  ITA Italiano   \n",
      "1  Dono di Gian Carlo Roscioni a Maria Corti avve...  ITA Italiano   \n",
      "2  Dono di Gian Carlo Roscioni a Maria Corti avve...  ITA Italiano   \n",
      "3  Dono di Gian Carlo Roscioni a Maria Corti avve...  ITA Italiano   \n",
      "\n",
      "           tipo       anno                                    extracted_dates  \\\n",
      "0  MS 301 Fondo       1928  settembre-settembre, settembre-settembre, otto...   \n",
      "1  MS 301 Fondo       1931                                      aprile-aprile   \n",
      "2  MS 301 Fondo        NaN                                                      \n",
      "3  MS 301 Fondo  1931-1968  luglio-luglio, settembre-settembre, Luglio-set...   \n",
      "\n",
      "            forma  \n",
      "0       Narrativa  \n",
      "1             NaN  \n",
      "2       Narrativa  \n",
      "3  Corrispondenza  \n"
     ]
    }
   ],
   "source": [
    "df['forma'] = df['ExtractedPart']\n",
    "\n",
    "# Drop the ExtractedPart column if no longer needed\n",
    "df.drop('ExtractedPart', axis=1, inplace=True)\n",
    "\n",
    "# Print the DataFrame to verify the changes\n",
    "print(df)"
   ]
  },
  {
   "cell_type": "markdown",
   "metadata": {},
   "source": [
    "I then extracted, through the RegEx pattern 'Fa parte di:\\s*\\[([^\\]]+)\\]' the *opera* and as above I removed it from the original column."
   ]
  },
  {
   "cell_type": "code",
   "execution_count": 9,
   "metadata": {},
   "outputs": [
    {
     "name": "stdout",
     "output_type": "stream",
     "text": [
      "        unitàId        archivio  \\\n",
      "0  unitàgelli-0  Archivio Gelli   \n",
      "1  unitàgelli-1  Archivio Gelli   \n",
      "2  unitàgelli-2  Archivio Gelli   \n",
      "3  unitàgelli-3  Archivio Gelli   \n",
      "\n",
      "                                              titolo  \\\n",
      "0  1/3 Gadda, Carlo Emilio. [B] La Madonna dei Fi...   \n",
      "1  2/3 Gadda, Carlo Emilio. La Madonna dei filoso...   \n",
      "2  3/3 Gadda, Carlo Emilio. [A] La Madonna dei Fi...   \n",
      "3  1/11 Gadda, Carlo Emilio [Corrispondenza] / Ca...   \n",
      "\n",
      "                                         provenienza        lingua  \\\n",
      "0  Dono di Gian Carlo Roscioni a Maria Corti avve...  ITA Italiano   \n",
      "1  Dono di Gian Carlo Roscioni a Maria Corti avve...  ITA Italiano   \n",
      "2  Dono di Gian Carlo Roscioni a Maria Corti avve...  ITA Italiano   \n",
      "3  Dono di Gian Carlo Roscioni a Maria Corti avve...  ITA Italiano   \n",
      "\n",
      "           tipo       anno                                    extracted_dates  \\\n",
      "0  MS 301 Fondo       1928  settembre-settembre, settembre-settembre, otto...   \n",
      "1  MS 301 Fondo       1931                                      aprile-aprile   \n",
      "2  MS 301 Fondo        NaN                                                      \n",
      "3  MS 301 Fondo  1931-1968  luglio-luglio, settembre-settembre, Luglio-set...   \n",
      "\n",
      "            forma                   ExtractedPart  \n",
      "0       Narrativa         La Madonna dei Filosofi  \n",
      "1             NaN         La Madonna dei Filosofi  \n",
      "2       Narrativa         La Madonna dei Filosofi  \n",
      "3  Corrispondenza  Epistolario a Silvio Guarnieri  \n"
     ]
    },
    {
     "name": "stderr",
     "output_type": "stream",
     "text": [
      "/var/folders/qz/b4z_rj3s15jbrn1l_dv90b9c0000gn/T/ipykernel_2072/2182361473.py:5: FutureWarning: The default value of regex will change from True to False in a future version.\n",
      "  df['titolo'] = df['titolo'].str.replace(r'Fa parte di:\\s*\\[([^\\]]+)\\]','').str.strip()\n"
     ]
    }
   ],
   "source": [
    "\n",
    "df['ExtractedPart'] = df['titolo'].str.extract(r'Fa parte di:\\s*\\[([^\\]]+)\\]')\n",
    "\n",
    "\n",
    "df['titolo'] = df['titolo'].str.replace(r'Fa parte di:\\s*\\[([^\\]]+)\\]','').str.strip()\n",
    "\n",
    "\n",
    "print(df)"
   ]
  },
  {
   "cell_type": "code",
   "execution_count": 10,
   "metadata": {},
   "outputs": [
    {
     "name": "stdout",
     "output_type": "stream",
     "text": [
      "        unitàId        archivio  \\\n",
      "0  unitàgelli-0  Archivio Gelli   \n",
      "1  unitàgelli-1  Archivio Gelli   \n",
      "2  unitàgelli-2  Archivio Gelli   \n",
      "3  unitàgelli-3  Archivio Gelli   \n",
      "\n",
      "                                              titolo  \\\n",
      "0  1/3 Gadda, Carlo Emilio. [B] La Madonna dei Fi...   \n",
      "1  2/3 Gadda, Carlo Emilio. La Madonna dei filoso...   \n",
      "2  3/3 Gadda, Carlo Emilio. [A] La Madonna dei Fi...   \n",
      "3  1/11 Gadda, Carlo Emilio [Corrispondenza] / Ca...   \n",
      "\n",
      "                                         provenienza        lingua  \\\n",
      "0  Dono di Gian Carlo Roscioni a Maria Corti avve...  ITA Italiano   \n",
      "1  Dono di Gian Carlo Roscioni a Maria Corti avve...  ITA Italiano   \n",
      "2  Dono di Gian Carlo Roscioni a Maria Corti avve...  ITA Italiano   \n",
      "3  Dono di Gian Carlo Roscioni a Maria Corti avve...  ITA Italiano   \n",
      "\n",
      "           tipo       anno                                    extracted_dates  \\\n",
      "0  MS 301 Fondo       1928  settembre-settembre, settembre-settembre, otto...   \n",
      "1  MS 301 Fondo       1931                                      aprile-aprile   \n",
      "2  MS 301 Fondo        NaN                                                      \n",
      "3  MS 301 Fondo  1931-1968  luglio-luglio, settembre-settembre, Luglio-set...   \n",
      "\n",
      "            forma                           opera  \n",
      "0       Narrativa         La Madonna dei Filosofi  \n",
      "1             NaN         La Madonna dei Filosofi  \n",
      "2       Narrativa         La Madonna dei Filosofi  \n",
      "3  Corrispondenza  Epistolario a Silvio Guarnieri  \n"
     ]
    }
   ],
   "source": [
    "df['opera'] = df['ExtractedPart']\n",
    "\n",
    "# Drop the ExtractedPart column if no longer needed\n",
    "df.drop('ExtractedPart', axis=1, inplace=True)\n",
    "\n",
    "\n",
    "print(df)"
   ]
  },
  {
   "cell_type": "markdown",
   "metadata": {},
   "source": [
    "I then extracted through the RegEx pattern 'Sommario:\\s*\\[([^\\]]+)\\]'. the column *sommario*, and removed this pattern from the original column."
   ]
  },
  {
   "cell_type": "code",
   "execution_count": 11,
   "metadata": {},
   "outputs": [
    {
     "name": "stdout",
     "output_type": "stream",
     "text": [
      "        unitàId        archivio  \\\n",
      "0  unitàgelli-0  Archivio Gelli   \n",
      "1  unitàgelli-1  Archivio Gelli   \n",
      "2  unitàgelli-2  Archivio Gelli   \n",
      "3  unitàgelli-3  Archivio Gelli   \n",
      "\n",
      "                                              titolo  \\\n",
      "0  1/3 Gadda, Carlo Emilio. [B] La Madonna dei Fi...   \n",
      "1  2/3 Gadda, Carlo Emilio. La Madonna dei filoso...   \n",
      "2  3/3 Gadda, Carlo Emilio. [A] La Madonna dei Fi...   \n",
      "3  1/11 Gadda, Carlo Emilio [Corrispondenza] / Ca...   \n",
      "\n",
      "                                         provenienza        lingua  \\\n",
      "0  Dono di Gian Carlo Roscioni a Maria Corti avve...  ITA Italiano   \n",
      "1  Dono di Gian Carlo Roscioni a Maria Corti avve...  ITA Italiano   \n",
      "2  Dono di Gian Carlo Roscioni a Maria Corti avve...  ITA Italiano   \n",
      "3  Dono di Gian Carlo Roscioni a Maria Corti avve...  ITA Italiano   \n",
      "\n",
      "           tipo       anno                                    extracted_dates  \\\n",
      "0  MS 301 Fondo       1928  settembre-settembre, settembre-settembre, otto...   \n",
      "1  MS 301 Fondo       1931                                      aprile-aprile   \n",
      "2  MS 301 Fondo        NaN                                                      \n",
      "3  MS 301 Fondo  1931-1968  luglio-luglio, settembre-settembre, Luglio-set...   \n",
      "\n",
      "            forma                           opera  \\\n",
      "0       Narrativa         La Madonna dei Filosofi   \n",
      "1             NaN         La Madonna dei Filosofi   \n",
      "2       Narrativa         La Madonna dei Filosofi   \n",
      "3  Corrispondenza  Epistolario a Silvio Guarnieri   \n",
      "\n",
      "                                       ExtractedPart  \n",
      "0  Si tratta di una successiva stesura, dalla scr...  \n",
      "1                                                NaN  \n",
      "2  Si tratta di una prima stesura del capitolo IV...  \n",
      "3                                                NaN  \n"
     ]
    },
    {
     "name": "stderr",
     "output_type": "stream",
     "text": [
      "/var/folders/qz/b4z_rj3s15jbrn1l_dv90b9c0000gn/T/ipykernel_2072/2808750457.py:5: FutureWarning: The default value of regex will change from True to False in a future version.\n",
      "  df['titolo'] = df['titolo'].str.replace(r'Sommario:\\s*\\[([^\\]]+)\\]','').str.strip()\n"
     ]
    }
   ],
   "source": [
    "\n",
    "df['ExtractedPart'] = df['titolo'].str.extract(r'Sommario:\\s*\\[([^\\]]+)\\]')\n",
    "\n",
    "\n",
    "df['titolo'] = df['titolo'].str.replace(r'Sommario:\\s*\\[([^\\]]+)\\]','').str.strip()\n",
    "\n",
    "\n",
    "print(df)"
   ]
  },
  {
   "cell_type": "code",
   "execution_count": 12,
   "metadata": {},
   "outputs": [
    {
     "name": "stdout",
     "output_type": "stream",
     "text": [
      "        unitàId        archivio  \\\n",
      "0  unitàgelli-0  Archivio Gelli   \n",
      "1  unitàgelli-1  Archivio Gelli   \n",
      "2  unitàgelli-2  Archivio Gelli   \n",
      "3  unitàgelli-3  Archivio Gelli   \n",
      "\n",
      "                                              titolo  \\\n",
      "0  1/3 Gadda, Carlo Emilio. [B] La Madonna dei Fi...   \n",
      "1  2/3 Gadda, Carlo Emilio. La Madonna dei filoso...   \n",
      "2  3/3 Gadda, Carlo Emilio. [A] La Madonna dei Fi...   \n",
      "3  1/11 Gadda, Carlo Emilio [Corrispondenza] / Ca...   \n",
      "\n",
      "                                         provenienza        lingua  \\\n",
      "0  Dono di Gian Carlo Roscioni a Maria Corti avve...  ITA Italiano   \n",
      "1  Dono di Gian Carlo Roscioni a Maria Corti avve...  ITA Italiano   \n",
      "2  Dono di Gian Carlo Roscioni a Maria Corti avve...  ITA Italiano   \n",
      "3  Dono di Gian Carlo Roscioni a Maria Corti avve...  ITA Italiano   \n",
      "\n",
      "           tipo       anno                                    extracted_dates  \\\n",
      "0  MS 301 Fondo       1928  settembre-settembre, settembre-settembre, otto...   \n",
      "1  MS 301 Fondo       1931                                      aprile-aprile   \n",
      "2  MS 301 Fondo        NaN                                                      \n",
      "3  MS 301 Fondo  1931-1968  luglio-luglio, settembre-settembre, Luglio-set...   \n",
      "\n",
      "            forma                           opera  \\\n",
      "0       Narrativa         La Madonna dei Filosofi   \n",
      "1             NaN         La Madonna dei Filosofi   \n",
      "2       Narrativa         La Madonna dei Filosofi   \n",
      "3  Corrispondenza  Epistolario a Silvio Guarnieri   \n",
      "\n",
      "                                            sommario  \n",
      "0  Si tratta di una successiva stesura, dalla scr...  \n",
      "1                                                NaN  \n",
      "2  Si tratta di una prima stesura del capitolo IV...  \n",
      "3                                                NaN  \n"
     ]
    }
   ],
   "source": [
    "df['sommario'] = df['ExtractedPart']\n",
    "\n",
    "# Drop the ExtractedPart column if no longer needed\n",
    "df.drop('ExtractedPart', axis=1, inplace=True)\n",
    "\n",
    "\n",
    "print(df)"
   ]
  },
  {
   "cell_type": "markdown",
   "metadata": {},
   "source": [
    "I then extracted some further patterns also some other pattersn with a similar metholdogy as then one expressed above, through using RegEx and eliminating the matching pattern from the original column."
   ]
  },
  {
   "cell_type": "code",
   "execution_count": 13,
   "metadata": {},
   "outputs": [
    {
     "name": "stdout",
     "output_type": "stream",
     "text": [
      "        unitàId        archivio  \\\n",
      "0  unitàgelli-0  Archivio Gelli   \n",
      "1  unitàgelli-1  Archivio Gelli   \n",
      "2  unitàgelli-2  Archivio Gelli   \n",
      "3  unitàgelli-3  Archivio Gelli   \n",
      "\n",
      "                                              titolo  \\\n",
      "0  1/3 Gadda, Carlo Emilio. [B] La Madonna dei Fi...   \n",
      "1  2/3 Gadda, Carlo Emilio. La Madonna dei filoso...   \n",
      "2  3/3 Gadda, Carlo Emilio. [A] La Madonna dei Fi...   \n",
      "3  1/11 Gadda, Carlo Emilio [Corrispondenza] / Ca...   \n",
      "\n",
      "                                         provenienza        lingua  \\\n",
      "0  Dono di Gian Carlo Roscioni a Maria Corti avve...  ITA Italiano   \n",
      "1  Dono di Gian Carlo Roscioni a Maria Corti avve...  ITA Italiano   \n",
      "2  Dono di Gian Carlo Roscioni a Maria Corti avve...  ITA Italiano   \n",
      "3  Dono di Gian Carlo Roscioni a Maria Corti avve...  ITA Italiano   \n",
      "\n",
      "           tipo       anno                                    extracted_dates  \\\n",
      "0  MS 301 Fondo       1928  settembre-settembre, settembre-settembre, otto...   \n",
      "1  MS 301 Fondo       1931                                      aprile-aprile   \n",
      "2  MS 301 Fondo        NaN                                                      \n",
      "3  MS 301 Fondo  1931-1968  luglio-luglio, settembre-settembre, Luglio-set...   \n",
      "\n",
      "            forma                           opera  \\\n",
      "0       Narrativa         La Madonna dei Filosofi   \n",
      "1             NaN         La Madonna dei Filosofi   \n",
      "2       Narrativa         La Madonna dei Filosofi   \n",
      "3  Corrispondenza  Epistolario a Silvio Guarnieri   \n",
      "\n",
      "                                            sommario  \\\n",
      "0  Si tratta di una successiva stesura, dalla scr...   \n",
      "1                                                NaN   \n",
      "2  Si tratta di una prima stesura del capitolo IV...   \n",
      "3                                                NaN   \n",
      "\n",
      "                                       ExtractedPart  \n",
      "0          Ms. con correzioni e varianti (originale)  \n",
      "1                                                NaN  \n",
      "2          Ms. con correzioni e varianti (originale)  \n",
      "3  Autografi, firmati, dattiloscritti, firmati (o...  \n"
     ]
    },
    {
     "name": "stderr",
     "output_type": "stream",
     "text": [
      "/var/folders/qz/b4z_rj3s15jbrn1l_dv90b9c0000gn/T/ipykernel_2072/3884349587.py:5: FutureWarning: The default value of regex will change from True to False in a future version.\n",
      "  df['titolo'] = df['titolo'].str.replace(r'Natura:\\s*\\[([^\\]]+)\\]','').str.strip()\n"
     ]
    }
   ],
   "source": [
    "\n",
    "df['ExtractedPart'] = df['titolo'].str.extract(r'Natura:\\s*\\[([^\\]]+)\\]')\n",
    "\n",
    "\n",
    "df['titolo'] = df['titolo'].str.replace(r'Natura:\\s*\\[([^\\]]+)\\]','').str.strip()\n",
    "\n",
    "\n",
    "print(df)"
   ]
  },
  {
   "cell_type": "code",
   "execution_count": 14,
   "metadata": {},
   "outputs": [
    {
     "name": "stdout",
     "output_type": "stream",
     "text": [
      "        unitàId        archivio  \\\n",
      "0  unitàgelli-0  Archivio Gelli   \n",
      "1  unitàgelli-1  Archivio Gelli   \n",
      "2  unitàgelli-2  Archivio Gelli   \n",
      "3  unitàgelli-3  Archivio Gelli   \n",
      "\n",
      "                                              titolo  \\\n",
      "0  1/3 Gadda, Carlo Emilio. [B] La Madonna dei Fi...   \n",
      "1  2/3 Gadda, Carlo Emilio. La Madonna dei filoso...   \n",
      "2  3/3 Gadda, Carlo Emilio. [A] La Madonna dei Fi...   \n",
      "3  1/11 Gadda, Carlo Emilio [Corrispondenza] / Ca...   \n",
      "\n",
      "                                         provenienza        lingua  \\\n",
      "0  Dono di Gian Carlo Roscioni a Maria Corti avve...  ITA Italiano   \n",
      "1  Dono di Gian Carlo Roscioni a Maria Corti avve...  ITA Italiano   \n",
      "2  Dono di Gian Carlo Roscioni a Maria Corti avve...  ITA Italiano   \n",
      "3  Dono di Gian Carlo Roscioni a Maria Corti avve...  ITA Italiano   \n",
      "\n",
      "           tipo       anno                                    extracted_dates  \\\n",
      "0  MS 301 Fondo       1928  settembre-settembre, settembre-settembre, otto...   \n",
      "1  MS 301 Fondo       1931                                      aprile-aprile   \n",
      "2  MS 301 Fondo        NaN                                                      \n",
      "3  MS 301 Fondo  1931-1968  luglio-luglio, settembre-settembre, Luglio-set...   \n",
      "\n",
      "            forma                           opera  \\\n",
      "0       Narrativa         La Madonna dei Filosofi   \n",
      "1             NaN         La Madonna dei Filosofi   \n",
      "2       Narrativa         La Madonna dei Filosofi   \n",
      "3  Corrispondenza  Epistolario a Silvio Guarnieri   \n",
      "\n",
      "                                            sommario  \\\n",
      "0  Si tratta di una successiva stesura, dalla scr...   \n",
      "1                                                NaN   \n",
      "2  Si tratta di una prima stesura del capitolo IV...   \n",
      "3                                                NaN   \n",
      "\n",
      "                                              natura  \n",
      "0          Ms. con correzioni e varianti (originale)  \n",
      "1                                                NaN  \n",
      "2          Ms. con correzioni e varianti (originale)  \n",
      "3  Autografi, firmati, dattiloscritti, firmati (o...  \n"
     ]
    }
   ],
   "source": [
    "df['natura'] = df['ExtractedPart']\n",
    "\n",
    "# Drop the ExtractedPart column if no longer needed\n",
    "df.drop('ExtractedPart', axis=1, inplace=True)\n",
    "\n",
    "\n",
    "print(df)"
   ]
  },
  {
   "cell_type": "code",
   "execution_count": 15,
   "metadata": {},
   "outputs": [
    {
     "name": "stdout",
     "output_type": "stream",
     "text": [
      "        unitàId        archivio  \\\n",
      "0  unitàgelli-0  Archivio Gelli   \n",
      "1  unitàgelli-1  Archivio Gelli   \n",
      "2  unitàgelli-2  Archivio Gelli   \n",
      "3  unitàgelli-3  Archivio Gelli   \n",
      "\n",
      "                                              titolo  \\\n",
      "0  1/3 Gadda, Carlo Emilio. [B] La Madonna dei Fi...   \n",
      "1  2/3 Gadda, Carlo Emilio. La Madonna dei filoso...   \n",
      "2  3/3 Gadda, Carlo Emilio. [A] La Madonna dei Fi...   \n",
      "3  1/11 Gadda, Carlo Emilio [Corrispondenza] / Ca...   \n",
      "\n",
      "                                         provenienza        lingua  \\\n",
      "0  Dono di Gian Carlo Roscioni a Maria Corti avve...  ITA Italiano   \n",
      "1  Dono di Gian Carlo Roscioni a Maria Corti avve...  ITA Italiano   \n",
      "2  Dono di Gian Carlo Roscioni a Maria Corti avve...  ITA Italiano   \n",
      "3  Dono di Gian Carlo Roscioni a Maria Corti avve...  ITA Italiano   \n",
      "\n",
      "           tipo       anno                                    extracted_dates  \\\n",
      "0  MS 301 Fondo       1928  settembre-settembre, settembre-settembre, otto...   \n",
      "1  MS 301 Fondo       1931                                      aprile-aprile   \n",
      "2  MS 301 Fondo        NaN                                                      \n",
      "3  MS 301 Fondo  1931-1968  luglio-luglio, settembre-settembre, Luglio-set...   \n",
      "\n",
      "            forma                           opera  \\\n",
      "0       Narrativa         La Madonna dei Filosofi   \n",
      "1             NaN         La Madonna dei Filosofi   \n",
      "2       Narrativa         La Madonna dei Filosofi   \n",
      "3  Corrispondenza  Epistolario a Silvio Guarnieri   \n",
      "\n",
      "                                            sommario  \\\n",
      "0  Si tratta di una successiva stesura, dalla scr...   \n",
      "1                                                NaN   \n",
      "2  Si tratta di una prima stesura del capitolo IV...   \n",
      "3                                                NaN   \n",
      "\n",
      "                                              natura  \\\n",
      "0          Ms. con correzioni e varianti (originale)   \n",
      "1                                                NaN   \n",
      "2          Ms. con correzioni e varianti (originale)   \n",
      "3  Autografi, firmati, dattiloscritti, firmati (o...   \n",
      "\n",
      "                                       ExtractedPart  \n",
      "0  Mi rincresce di cadere nel convenzionale, ma è...  \n",
      "1                                                NaN  \n",
      "2                        Mi riferisco sempre al 1922  \n",
      "3                                                NaN  \n"
     ]
    },
    {
     "name": "stderr",
     "output_type": "stream",
     "text": [
      "/var/folders/qz/b4z_rj3s15jbrn1l_dv90b9c0000gn/T/ipykernel_2072/2870256414.py:5: FutureWarning: The default value of regex will change from True to False in a future version.\n",
      "  df['titolo'] = df['titolo'].str.replace(r'Incipit:\\s*\\[([^\\]]+)\\]','').str.strip()\n"
     ]
    }
   ],
   "source": [
    "\n",
    "df['ExtractedPart'] = df['titolo'].str.extract(r'Incipit:\\s*\\[([^\\]]+)\\]')\n",
    "\n",
    "\n",
    "df['titolo'] = df['titolo'].str.replace(r'Incipit:\\s*\\[([^\\]]+)\\]','').str.strip()\n",
    "\n",
    "print(df)"
   ]
  },
  {
   "cell_type": "code",
   "execution_count": 16,
   "metadata": {},
   "outputs": [
    {
     "name": "stdout",
     "output_type": "stream",
     "text": [
      "        unitàId        archivio  \\\n",
      "0  unitàgelli-0  Archivio Gelli   \n",
      "1  unitàgelli-1  Archivio Gelli   \n",
      "2  unitàgelli-2  Archivio Gelli   \n",
      "3  unitàgelli-3  Archivio Gelli   \n",
      "\n",
      "                                              titolo  \\\n",
      "0  1/3 Gadda, Carlo Emilio. [B] La Madonna dei Fi...   \n",
      "1  2/3 Gadda, Carlo Emilio. La Madonna dei filoso...   \n",
      "2  3/3 Gadda, Carlo Emilio. [A] La Madonna dei Fi...   \n",
      "3  1/11 Gadda, Carlo Emilio [Corrispondenza] / Ca...   \n",
      "\n",
      "                                         provenienza        lingua  \\\n",
      "0  Dono di Gian Carlo Roscioni a Maria Corti avve...  ITA Italiano   \n",
      "1  Dono di Gian Carlo Roscioni a Maria Corti avve...  ITA Italiano   \n",
      "2  Dono di Gian Carlo Roscioni a Maria Corti avve...  ITA Italiano   \n",
      "3  Dono di Gian Carlo Roscioni a Maria Corti avve...  ITA Italiano   \n",
      "\n",
      "           tipo       anno                                    extracted_dates  \\\n",
      "0  MS 301 Fondo       1928  settembre-settembre, settembre-settembre, otto...   \n",
      "1  MS 301 Fondo       1931                                      aprile-aprile   \n",
      "2  MS 301 Fondo        NaN                                                      \n",
      "3  MS 301 Fondo  1931-1968  luglio-luglio, settembre-settembre, Luglio-set...   \n",
      "\n",
      "            forma                           opera  \\\n",
      "0       Narrativa         La Madonna dei Filosofi   \n",
      "1             NaN         La Madonna dei Filosofi   \n",
      "2       Narrativa         La Madonna dei Filosofi   \n",
      "3  Corrispondenza  Epistolario a Silvio Guarnieri   \n",
      "\n",
      "                                            sommario  \\\n",
      "0  Si tratta di una successiva stesura, dalla scr...   \n",
      "1                                                NaN   \n",
      "2  Si tratta di una prima stesura del capitolo IV...   \n",
      "3                                                NaN   \n",
      "\n",
      "                                              natura  \\\n",
      "0          Ms. con correzioni e varianti (originale)   \n",
      "1                                                NaN   \n",
      "2          Ms. con correzioni e varianti (originale)   \n",
      "3  Autografi, firmati, dattiloscritti, firmati (o...   \n",
      "\n",
      "                                             incipit  \n",
      "0  Mi rincresce di cadere nel convenzionale, ma è...  \n",
      "1                                                NaN  \n",
      "2                        Mi riferisco sempre al 1922  \n",
      "3                                                NaN  \n"
     ]
    }
   ],
   "source": [
    "df['incipit'] = df['ExtractedPart']\n",
    "\n",
    "# Drop the ExtractedPart column if no longer needed\n",
    "df.drop('ExtractedPart', axis=1, inplace=True)\n",
    "\n",
    "\n",
    "print(df)"
   ]
  },
  {
   "cell_type": "code",
   "execution_count": 17,
   "metadata": {},
   "outputs": [
    {
     "name": "stdout",
     "output_type": "stream",
     "text": [
      "        unitàId        archivio  \\\n",
      "0  unitàgelli-0  Archivio Gelli   \n",
      "1  unitàgelli-1  Archivio Gelli   \n",
      "2  unitàgelli-2  Archivio Gelli   \n",
      "3  unitàgelli-3  Archivio Gelli   \n",
      "\n",
      "                                              titolo  \\\n",
      "0  1/3 Gadda, Carlo Emilio. [B] La Madonna dei Fi...   \n",
      "1  2/3 Gadda, Carlo Emilio. La Madonna dei filoso...   \n",
      "2  3/3 Gadda, Carlo Emilio. [A] La Madonna dei Fi...   \n",
      "3  1/11 Gadda, Carlo Emilio [Corrispondenza] / Ca...   \n",
      "\n",
      "                                         provenienza        lingua  \\\n",
      "0  Dono di Gian Carlo Roscioni a Maria Corti avve...  ITA Italiano   \n",
      "1  Dono di Gian Carlo Roscioni a Maria Corti avve...  ITA Italiano   \n",
      "2  Dono di Gian Carlo Roscioni a Maria Corti avve...  ITA Italiano   \n",
      "3  Dono di Gian Carlo Roscioni a Maria Corti avve...  ITA Italiano   \n",
      "\n",
      "           tipo       anno                                    extracted_dates  \\\n",
      "0  MS 301 Fondo       1928  settembre-settembre, settembre-settembre, otto...   \n",
      "1  MS 301 Fondo       1931                                      aprile-aprile   \n",
      "2  MS 301 Fondo        NaN                                                      \n",
      "3  MS 301 Fondo  1931-1968  luglio-luglio, settembre-settembre, Luglio-set...   \n",
      "\n",
      "            forma                           opera  \\\n",
      "0       Narrativa         La Madonna dei Filosofi   \n",
      "1             NaN         La Madonna dei Filosofi   \n",
      "2       Narrativa         La Madonna dei Filosofi   \n",
      "3  Corrispondenza  Epistolario a Silvio Guarnieri   \n",
      "\n",
      "                                            sommario  \\\n",
      "0  Si tratta di una successiva stesura, dalla scr...   \n",
      "1                                                NaN   \n",
      "2  Si tratta di una prima stesura del capitolo IV...   \n",
      "3                                                NaN   \n",
      "\n",
      "                                              natura  \\\n",
      "0          Ms. con correzioni e varianti (originale)   \n",
      "1                                                NaN   \n",
      "2          Ms. con correzioni e varianti (originale)   \n",
      "3  Autografi, firmati, dattiloscritti, firmati (o...   \n",
      "\n",
      "                                             incipit ExtractedPart  \n",
      "0  Mi rincresce di cadere nel convenzionale, ma è...      discreto  \n",
      "1                                                NaN           NaN  \n",
      "2                        Mi riferisco sempre al 1922      discreto  \n",
      "3                                                NaN         buono  \n"
     ]
    },
    {
     "name": "stderr",
     "output_type": "stream",
     "text": [
      "/var/folders/qz/b4z_rj3s15jbrn1l_dv90b9c0000gn/T/ipykernel_2072/3582779546.py:5: FutureWarning: The default value of regex will change from True to False in a future version.\n",
      "  df['titolo'] = df['titolo'].str.replace(r'Stato di conservazione:\\s*\\[([^\\]]+)\\]','').str.strip()\n"
     ]
    }
   ],
   "source": [
    "\n",
    "df['ExtractedPart'] = df['titolo'].str.extract(r'Stato di conservazione:\\s*\\[([^\\]]+)\\]')\n",
    "\n",
    "\n",
    "df['titolo'] = df['titolo'].str.replace(r'Stato di conservazione:\\s*\\[([^\\]]+)\\]','').str.strip()\n",
    "\n",
    "\n",
    "print(df)"
   ]
  },
  {
   "cell_type": "code",
   "execution_count": 18,
   "metadata": {},
   "outputs": [
    {
     "name": "stdout",
     "output_type": "stream",
     "text": [
      "        unitàId        archivio  \\\n",
      "0  unitàgelli-0  Archivio Gelli   \n",
      "1  unitàgelli-1  Archivio Gelli   \n",
      "2  unitàgelli-2  Archivio Gelli   \n",
      "3  unitàgelli-3  Archivio Gelli   \n",
      "\n",
      "                                              titolo  \\\n",
      "0  1/3 Gadda, Carlo Emilio. [B] La Madonna dei Fi...   \n",
      "1  2/3 Gadda, Carlo Emilio. La Madonna dei filoso...   \n",
      "2  3/3 Gadda, Carlo Emilio. [A] La Madonna dei Fi...   \n",
      "3  1/11 Gadda, Carlo Emilio [Corrispondenza] / Ca...   \n",
      "\n",
      "                                         provenienza        lingua  \\\n",
      "0  Dono di Gian Carlo Roscioni a Maria Corti avve...  ITA Italiano   \n",
      "1  Dono di Gian Carlo Roscioni a Maria Corti avve...  ITA Italiano   \n",
      "2  Dono di Gian Carlo Roscioni a Maria Corti avve...  ITA Italiano   \n",
      "3  Dono di Gian Carlo Roscioni a Maria Corti avve...  ITA Italiano   \n",
      "\n",
      "           tipo       anno                                    extracted_dates  \\\n",
      "0  MS 301 Fondo       1928  settembre-settembre, settembre-settembre, otto...   \n",
      "1  MS 301 Fondo       1931                                      aprile-aprile   \n",
      "2  MS 301 Fondo        NaN                                                      \n",
      "3  MS 301 Fondo  1931-1968  luglio-luglio, settembre-settembre, Luglio-set...   \n",
      "\n",
      "            forma                           opera  \\\n",
      "0       Narrativa         La Madonna dei Filosofi   \n",
      "1             NaN         La Madonna dei Filosofi   \n",
      "2       Narrativa         La Madonna dei Filosofi   \n",
      "3  Corrispondenza  Epistolario a Silvio Guarnieri   \n",
      "\n",
      "                                            sommario  \\\n",
      "0  Si tratta di una successiva stesura, dalla scr...   \n",
      "1                                                NaN   \n",
      "2  Si tratta di una prima stesura del capitolo IV...   \n",
      "3                                                NaN   \n",
      "\n",
      "                                              natura  \\\n",
      "0          Ms. con correzioni e varianti (originale)   \n",
      "1                                                NaN   \n",
      "2          Ms. con correzioni e varianti (originale)   \n",
      "3  Autografi, firmati, dattiloscritti, firmati (o...   \n",
      "\n",
      "                                             incipit Stato di conservazione  \n",
      "0  Mi rincresce di cadere nel convenzionale, ma è...               discreto  \n",
      "1                                                NaN                    NaN  \n",
      "2                        Mi riferisco sempre al 1922               discreto  \n",
      "3                                                NaN                  buono  \n"
     ]
    }
   ],
   "source": [
    "df['Stato di conservazione'] = df['ExtractedPart']\n",
    "\n",
    "# Drop the ExtractedPart column if no longer needed\n",
    "df.drop('ExtractedPart', axis=1, inplace=True)\n",
    "\n",
    "\n",
    "print(df)"
   ]
  },
  {
   "cell_type": "code",
   "execution_count": 19,
   "metadata": {},
   "outputs": [
    {
     "name": "stderr",
     "output_type": "stream",
     "text": [
      "/var/folders/qz/b4z_rj3s15jbrn1l_dv90b9c0000gn/T/ipykernel_2072/2211331375.py:5: FutureWarning: The default value of regex will change from True to False in a future version.\n",
      "  df['titolo'] = df['titolo'].str.replace(r'Collana:\\s*\\[([^\\]]+)\\]','').str.strip()\n"
     ]
    }
   ],
   "source": [
    "\n",
    "df['ExtractedPart'] = df['titolo'].str.extract(r'Collana:\\s*\\[([^\\]]+)\\]')\n",
    "\n",
    "\n",
    "df['titolo'] = df['titolo'].str.replace(r'Collana:\\s*\\[([^\\]]+)\\]','').str.strip()"
   ]
  },
  {
   "cell_type": "code",
   "execution_count": 20,
   "metadata": {},
   "outputs": [
    {
     "name": "stdout",
     "output_type": "stream",
     "text": [
      "        unitàId        archivio  \\\n",
      "0  unitàgelli-0  Archivio Gelli   \n",
      "1  unitàgelli-1  Archivio Gelli   \n",
      "2  unitàgelli-2  Archivio Gelli   \n",
      "3  unitàgelli-3  Archivio Gelli   \n",
      "\n",
      "                                              titolo  \\\n",
      "0  1/3 Gadda, Carlo Emilio. [B] La Madonna dei Fi...   \n",
      "1  2/3 Gadda, Carlo Emilio. La Madonna dei filoso...   \n",
      "2  3/3 Gadda, Carlo Emilio. [A] La Madonna dei Fi...   \n",
      "3  1/11 Gadda, Carlo Emilio [Corrispondenza] / Ca...   \n",
      "\n",
      "                                         provenienza        lingua  \\\n",
      "0  Dono di Gian Carlo Roscioni a Maria Corti avve...  ITA Italiano   \n",
      "1  Dono di Gian Carlo Roscioni a Maria Corti avve...  ITA Italiano   \n",
      "2  Dono di Gian Carlo Roscioni a Maria Corti avve...  ITA Italiano   \n",
      "3  Dono di Gian Carlo Roscioni a Maria Corti avve...  ITA Italiano   \n",
      "\n",
      "           tipo       anno                                    extracted_dates  \\\n",
      "0  MS 301 Fondo       1928  settembre-settembre, settembre-settembre, otto...   \n",
      "1  MS 301 Fondo       1931                                      aprile-aprile   \n",
      "2  MS 301 Fondo        NaN                                                      \n",
      "3  MS 301 Fondo  1931-1968  luglio-luglio, settembre-settembre, Luglio-set...   \n",
      "\n",
      "            forma                           opera  \\\n",
      "0       Narrativa         La Madonna dei Filosofi   \n",
      "1             NaN         La Madonna dei Filosofi   \n",
      "2       Narrativa         La Madonna dei Filosofi   \n",
      "3  Corrispondenza  Epistolario a Silvio Guarnieri   \n",
      "\n",
      "                                            sommario  \\\n",
      "0  Si tratta di una successiva stesura, dalla scr...   \n",
      "1                                                NaN   \n",
      "2  Si tratta di una prima stesura del capitolo IV...   \n",
      "3                                                NaN   \n",
      "\n",
      "                                              natura  \\\n",
      "0          Ms. con correzioni e varianti (originale)   \n",
      "1                                                NaN   \n",
      "2          Ms. con correzioni e varianti (originale)   \n",
      "3  Autografi, firmati, dattiloscritti, firmati (o...   \n",
      "\n",
      "                                             incipit Stato di conservazione  \\\n",
      "0  Mi rincresce di cadere nel convenzionale, ma è...               discreto   \n",
      "1                                                NaN                    NaN   \n",
      "2                        Mi riferisco sempre al 1922               discreto   \n",
      "3                                                NaN                  buono   \n",
      "\n",
      "               collana  \n",
      "0                  NaN  \n",
      "1  Edizioni di Solaria  \n",
      "2                  NaN  \n",
      "3                  NaN  \n"
     ]
    }
   ],
   "source": [
    "df['collana'] = df['ExtractedPart']\n",
    "\n",
    "\n",
    "# Drop the ExtractedPart column if no longer needed\n",
    "df.drop('ExtractedPart', axis=1, inplace=True)\n",
    "\n",
    "\n",
    "print(df)"
   ]
  },
  {
   "cell_type": "code",
   "execution_count": 21,
   "metadata": {},
   "outputs": [
    {
     "name": "stderr",
     "output_type": "stream",
     "text": [
      "/var/folders/qz/b4z_rj3s15jbrn1l_dv90b9c0000gn/T/ipykernel_2072/227132540.py:5: FutureWarning: The default value of regex will change from True to False in a future version.\n",
      "  df['titolo'] = df['titolo'].str.replace(r'Altri nomi:\\s*\\[([^\\]]+)\\]','').str.strip()\n"
     ]
    }
   ],
   "source": [
    "# Extracting [F.G. 1] part using regular expression\n",
    "df['ExtractedPart'] = df['titolo'].str.extract(r'Altri nomi:\\s*\\[([^\\]]+)\\]')\n",
    "\n",
    "# Remove the [F.G. 1] part from the OriginalColumn\n",
    "df['titolo'] = df['titolo'].str.replace(r'Altri nomi:\\s*\\[([^\\]]+)\\]','').str.strip()"
   ]
  },
  {
   "cell_type": "code",
   "execution_count": 22,
   "metadata": {},
   "outputs": [
    {
     "name": "stdout",
     "output_type": "stream",
     "text": [
      "        unitàId        archivio  \\\n",
      "0  unitàgelli-0  Archivio Gelli   \n",
      "1  unitàgelli-1  Archivio Gelli   \n",
      "2  unitàgelli-2  Archivio Gelli   \n",
      "3  unitàgelli-3  Archivio Gelli   \n",
      "\n",
      "                                              titolo  \\\n",
      "0  1/3 Gadda, Carlo Emilio. [B] La Madonna dei Fi...   \n",
      "1  2/3 Gadda, Carlo Emilio. La Madonna dei filoso...   \n",
      "2  3/3 Gadda, Carlo Emilio. [A] La Madonna dei Fi...   \n",
      "3  1/11 Gadda, Carlo Emilio [Corrispondenza] / Ca...   \n",
      "\n",
      "                                         provenienza        lingua  \\\n",
      "0  Dono di Gian Carlo Roscioni a Maria Corti avve...  ITA Italiano   \n",
      "1  Dono di Gian Carlo Roscioni a Maria Corti avve...  ITA Italiano   \n",
      "2  Dono di Gian Carlo Roscioni a Maria Corti avve...  ITA Italiano   \n",
      "3  Dono di Gian Carlo Roscioni a Maria Corti avve...  ITA Italiano   \n",
      "\n",
      "           tipo       anno                                    extracted_dates  \\\n",
      "0  MS 301 Fondo       1928  settembre-settembre, settembre-settembre, otto...   \n",
      "1  MS 301 Fondo       1931                                      aprile-aprile   \n",
      "2  MS 301 Fondo        NaN                                                      \n",
      "3  MS 301 Fondo  1931-1968  luglio-luglio, settembre-settembre, Luglio-set...   \n",
      "\n",
      "            forma                           opera  \\\n",
      "0       Narrativa         La Madonna dei Filosofi   \n",
      "1             NaN         La Madonna dei Filosofi   \n",
      "2       Narrativa         La Madonna dei Filosofi   \n",
      "3  Corrispondenza  Epistolario a Silvio Guarnieri   \n",
      "\n",
      "                                            sommario  \\\n",
      "0  Si tratta di una successiva stesura, dalla scr...   \n",
      "1                                                NaN   \n",
      "2  Si tratta di una prima stesura del capitolo IV...   \n",
      "3                                                NaN   \n",
      "\n",
      "                                              natura  \\\n",
      "0          Ms. con correzioni e varianti (originale)   \n",
      "1                                                NaN   \n",
      "2          Ms. con correzioni e varianti (originale)   \n",
      "3  Autografi, firmati, dattiloscritti, firmati (o...   \n",
      "\n",
      "                                             incipit Stato di conservazione  \\\n",
      "0  Mi rincresce di cadere nel convenzionale, ma è...               discreto   \n",
      "1                                                NaN                    NaN   \n",
      "2                        Mi riferisco sempre al 1922               discreto   \n",
      "3                                                NaN                  buono   \n",
      "\n",
      "               collana                      altri nomi  \n",
      "0                  NaN                             NaN  \n",
      "1  Edizioni di Solaria                             NaN  \n",
      "2                  NaN                             NaN  \n",
      "3                  NaN  Guarnieri, Silvio destinatario  \n"
     ]
    }
   ],
   "source": [
    "df['altri nomi'] = df['ExtractedPart']\n",
    "\n",
    "# Drop the ExtractedPart column if no longer needed\n",
    "df.drop('ExtractedPart', axis=1, inplace=True)\n",
    "\n",
    "# Print the DataFrame to verify the changes\n",
    "print(df)"
   ]
  },
  {
   "cell_type": "markdown",
   "metadata": {},
   "source": [
    "Finally I saved the DataFrame as an Excel and CSV file"
   ]
  },
  {
   "cell_type": "code",
   "execution_count": 23,
   "metadata": {},
   "outputs": [],
   "source": [
    "df.to_csv(\"archiviopavia.csv\")"
   ]
  },
  {
   "cell_type": "code",
   "execution_count": 24,
   "metadata": {},
   "outputs": [],
   "source": [
    "df.to_excel(\"archiviopavia.xlsx\")"
   ]
  }
 ],
 "metadata": {
  "kernelspec": {
   "display_name": "Python 3",
   "language": "python",
   "name": "python3"
  },
  "language_info": {
   "codemirror_mode": {
    "name": "ipython",
    "version": 3
   },
   "file_extension": ".py",
   "mimetype": "text/x-python",
   "name": "python",
   "nbconvert_exporter": "python",
   "pygments_lexer": "ipython3",
   "version": "3.10.0"
  },
  "orig_nbformat": 4
 },
 "nbformat": 4,
 "nbformat_minor": 2
}
