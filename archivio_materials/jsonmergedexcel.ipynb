{
 "cells": [
  {
   "cell_type": "markdown",
   "metadata": {},
   "source": [
    "# From Excel spreadsheet to JSON"
   ]
  },
  {
   "cell_type": "markdown",
   "metadata": {},
   "source": [
    "After I had created the final table I had to taansform it in a JSON file so that i could employ it on a website and it could be browsed as a dataset"
   ]
  },
  {
   "cell_type": "code",
   "execution_count": 4,
   "metadata": {},
   "outputs": [],
   "source": [
    "import pandas as pd\n",
    "\n",
    "# Load the Excel file into a Pandas DataFrame\n",
    "excel_file = \"/Users/martinapensalfini/Desktop/gadda/provamergecolumn.xlsx\"  # Replace with the path to your Excel file\n",
    "df = pd.read_excel(excel_file)\n",
    "\n",
    "# Convert the DataFrame to a JSON file\n",
    "json_file = \"mergecolumn.json\"  # Replace with the desired output JSON file name\n",
    "df.to_json(json_file, orient=\"records\", lines=True)"
   ]
  }
 ],
 "metadata": {
  "kernelspec": {
   "display_name": "Python 3",
   "language": "python",
   "name": "python3"
  },
  "language_info": {
   "codemirror_mode": {
    "name": "ipython",
    "version": 3
   },
   "file_extension": ".py",
   "mimetype": "text/x-python",
   "name": "python",
   "nbconvert_exporter": "python",
   "pygments_lexer": "ipython3",
   "version": "3.10.0"
  },
  "orig_nbformat": 4
 },
 "nbformat": 4,
 "nbformat_minor": 2
}
