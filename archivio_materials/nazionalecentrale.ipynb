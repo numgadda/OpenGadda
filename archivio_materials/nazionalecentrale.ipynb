{
 "cells": [
  {
   "cell_type": "markdown",
   "metadata": {},
   "source": [
    "# Archivio Nazionale Centrale\n",
    "\n",
    "After having separated from the full text (*L'ARCHIVIO DEGLI ARCHIVI*) the part regarding this specific archive, I then turned it into a .txt separately and modified with all the specific symbols expressed in the original dissertation.\n",
    "\n",
    "I then operated onto uploading it and then I split it through the ReGex *'\\n'*, creating a list."
   ]
  },
  {
   "cell_type": "code",
   "execution_count": 2,
   "metadata": {},
   "outputs": [],
   "source": [
    "import pypandoc\n",
    "\n",
    "# I transformed the docx in txt\n",
    "docxFilename = 'nazionalecentrale.docx'\n",
    "output = pypandoc.convert_file(docxFilename, 'plain', outputfile=\"/Users/martinapensalfini/Desktop/gadda/nazionalecentrale.txt\")\n",
    "assert output == \"\""
   ]
  },
  {
   "cell_type": "code",
   "execution_count": 1,
   "metadata": {},
   "outputs": [],
   "source": [
    "# I opened the document\n",
    "\n",
    "import re\n",
    "with open('nazionalecentrale.txt') as f:\n",
    "  content = f.read()"
   ]
  },
  {
   "cell_type": "code",
   "execution_count": 2,
   "metadata": {},
   "outputs": [],
   "source": [
    "\n",
    "\n",
    "series=content.split(\"\\n\") # split lines by new line\n",
    "series = [s for s in series if s !=''] # remove empty strings\n",
    "# print(series)"
   ]
  },
  {
   "cell_type": "markdown",
   "metadata": {},
   "source": [
    "From here I created the DataFrame using as cells the different values of the list, the units of the archive and dubbed them under the column name *titolo*. I then added a column for the IDs, archive and series.\n",
    "\n",
    "I then extracted the year, month and day and I saved the DataFrame as an Excel and CSV"
   ]
  },
  {
   "cell_type": "code",
   "execution_count": 4,
   "metadata": {},
   "outputs": [],
   "source": [
    "import pandas as pd\n",
    "\n",
    "from pandas import read_csv, Series\n",
    "\n",
    "\n",
    "\n",
    "df = pd.DataFrame(series, columns=['titolo']) # I created the dataframe with a single column title where I put all the units\n",
    "df.insert(0, 'archivio', 'Archivio Biblioteca Nazionale Centrale') # I created a column to specify the archive\n",
    "df.insert(2, 'serie', 'Quaderni del Giornale di guerra e di prigionia') # I created a column to specify the type   \n",
    "\n",
    "# I created an id for all the units\n",
    "\n",
    "df_list_id = []\n",
    "for idx, row in df.iterrows():\n",
    "    df_list_id.append(\"unitànazionecentrale-\" + str(idx))\n",
    "df.insert(0, \"unitàId\", Series(df_list_id, dtype=\"string\"))\n",
    "\n",
    "\n",
    "\n",
    "pattern=r\"\\b\\d{4}\\b\"\n",
    "df['anno'] = df['titolo'].str.extract(f'({pattern})', expand=False)\n",
    "pattern_month=r\"(?i)\\b(?:gennaio|febbraio|marzo|aprile|maggio|giugno|luglio|agosto|settembe|ottobre|novembre|dicembre)\\b\"\n",
    "df['mese'] = df['titolo'].str.extract(f'({pattern_month})', expand=False)\n",
    "pattern_day=r\"\\*\\d{1,2}\\*\"\n",
    "df['day'] = df['titolo'].str.extract(f'({pattern_day})', expand=False)\n",
    "\n",
    "\n",
    "\n",
    "df.to_csv(\"nazionalecentrale.csv\")\n",
    "df.to_excel('nazionalecentrale.xlsx', index = False)\n"
   ]
  }
 ],
 "metadata": {
  "kernelspec": {
   "display_name": "Python 3",
   "language": "python",
   "name": "python3"
  },
  "language_info": {
   "codemirror_mode": {
    "name": "ipython",
    "version": 3
   },
   "file_extension": ".py",
   "mimetype": "text/x-python",
   "name": "python",
   "nbconvert_exporter": "python",
   "pygments_lexer": "ipython3",
   "version": "3.10.0"
  },
  "orig_nbformat": 4,
  "vscode": {
   "interpreter": {
    "hash": "aee8b7b246df8f9039afb4144a1f6fd8d2ca17a180786b69acc140d282b71a49"
   }
  }
 },
 "nbformat": 4,
 "nbformat_minor": 2
}
