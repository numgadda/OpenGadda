{
 "cells": [
  {
   "cell_type": "markdown",
   "metadata": {},
   "source": [
    "## Adjusting the format\n",
    "\n",
    "As I was not satisfied with the original format of the column I reformatted it so that it would better represent the archival hierarchy and it would also be shorter for space issues.\n",
    "\n",
    "I again transformed the Excel file in a DataFrame and then went onto uniting column together in three main ones: \n",
    "\n",
    "1) Archival description (the archival hierarchy); in this the hierarchy was represented by a specific order plus each category was separated by '/').\n",
    "2) Internal description (the description of the archive content) (in this case no specific order was created and each category was shown one after the other).\n",
    "3) External description (the description of the item) (it was displayed as above)."
   ]
  },
  {
   "cell_type": "code",
   "execution_count": 11,
   "metadata": {},
   "outputs": [
    {
     "name": "stdout",
     "output_type": "stream",
     "text": [
      "   N           archivio        fondo  \\\n",
      "0  0  Archivio Bonsanti  Fondo Gadda   \n",
      "1  1  Archivio Bonsanti  Fondo Gadda   \n",
      "2  2  Archivio Bonsanti  Fondo Gadda   \n",
      "3  3  Archivio Bonsanti  Fondo Gadda   \n",
      "4  4  Archivio Bonsanti  Fondo Gadda   \n",
      "\n",
      "                                               unità serie    sottoserie  \\\n",
      "0                           «Piccola antologia 1904»    II  1 Quaderni 1   \n",
      "1   «1913. – Gaddus» [appunti di analisi matematica]    II  1 Quaderni 1   \n",
      "2          «Giornale di campagna vol. 2°. 1915-1916»    II  1 Quaderni 1   \n",
      "3  [Quaderno di studio del tedesco 10 novembre 1917]    II  1 Quaderni 1   \n",
      "4  [Quaderno di studio del tedesco 24 aprile 1918...    II  1 Quaderni 1   \n",
      "\n",
      "   faldone                                              opera  \\\n",
      "0      NaN  Appunti giovanili, scolastici e universitari (...   \n",
      "1      NaN  Appunti giovanili, scolastici e universitari (...   \n",
      "2      NaN                                  Quaderni militari   \n",
      "3      NaN                     Quaderni di studio del tedesco   \n",
      "4      NaN                     Quaderni di studio del tedesco   \n",
      "\n",
      "    schede tematiche  lib  ...  supporto      tipo contenitore descrizione  \\\n",
      "0  AppUni, DiQuaScol  NaN  ...  Quaderno  Quaderno   1 scatola         NaN   \n",
      "1  AppUni, DiQuaScol  NaN  ...  Quaderno  Quaderno   1 scatola         NaN   \n",
      "2            AppGue     M  ...  Quaderno  Quaderno   1 scatola         NaN   \n",
      "3         AppLetTed    GL  ...  Quaderno  Quaderno   1 scatola         NaN   \n",
      "4         AppLetTed    GL  ...  Quaderno  Quaderno   1 scatola         NaN   \n",
      "\n",
      "  provenienza lingua sommario stato di conservazione collana       data  \n",
      "0         NaN    NaN      NaN                    NaN     NaN 1904-01-01  \n",
      "1         NaN    NaN      NaN                    NaN     NaN 1913-01-01  \n",
      "2         NaN    NaN      NaN                    NaN     NaN 1916-01-01  \n",
      "3         NaN    NaN      NaN                    NaN     NaN 1917-11-10  \n",
      "4         NaN    NaN      NaN                    NaN     NaN 1918-04-24  \n",
      "\n",
      "[5 rows x 22 columns]\n"
     ]
    }
   ],
   "source": [
    "import pandas as pd\n",
    "\n",
    "\n",
    "file_path = '/Users/martinapensalfini/Desktop/gadda/df_date_gadda_tipo.xlsx'\n",
    "\n",
    "\n",
    "df = pd.read_excel(file_path)\n",
    "\n",
    "print(df.head())\n"
   ]
  },
  {
   "cell_type": "code",
   "execution_count": 12,
   "metadata": {},
   "outputs": [
    {
     "name": "stdout",
     "output_type": "stream",
     "text": [
      "                           Merged_Column_Original_Group  \\\n",
      "0     archivio: Archivio Bonsanti / fondo: Fondo Gad...   \n",
      "1     archivio: Archivio Bonsanti / fondo: Fondo Gad...   \n",
      "2     archivio: Archivio Bonsanti / fondo: Fondo Gad...   \n",
      "3     archivio: Archivio Bonsanti / fondo: Fondo Gad...   \n",
      "4     archivio: Archivio Bonsanti / fondo: Fondo Gad...   \n",
      "...                                                 ...   \n",
      "1578  archivio: Archivio Biblioteca Trivulziana / fo...   \n",
      "1579  archivio: Archivio Biblioteca Trivulziana / fo...   \n",
      "1580  archivio: Archivio Biblioteca Trivulziana / fo...   \n",
      "1581  archivio: Archivio Biblioteca Trivulziana / fo...   \n",
      "1582  archivio: Archivio Biblioteca Trivulziana / fo...   \n",
      "\n",
      "                              Merged_Column_First_Group  \\\n",
      "0     opera: Appunti giovanili, scolastici e univers...   \n",
      "1     opera: Appunti giovanili, scolastici e univers...   \n",
      "2     opera: Quaderni militari\\nschede tematiche: Ap...   \n",
      "3     opera: Quaderni di studio del tedesco\\nschede ...   \n",
      "4     opera: Quaderni di studio del tedesco\\nschede ...   \n",
      "...                                                 ...   \n",
      "1578  schede tematiche: Let\\nluogo: Roma\\ntipo: Lett...   \n",
      "1579  schede tematiche: Let\\nluogo: Roma\\ntipo: Lett...   \n",
      "1580  schede tematiche: Let\\nluogo: Roma\\ntipo: Lett...   \n",
      "1581  schede tematiche: Let\\nluogo: Roma\\ntipo: Lett...   \n",
      "1582  schede tematiche: Let\\nluogo: Roma\\ntipo: Lett...   \n",
      "\n",
      "                             Merged_Column_Second_Group  \n",
      "0     forma: Oggetto\\nsupporto: Quaderno\\ncontenitor...  \n",
      "1     forma: Oggetto\\nsupporto: Quaderno\\ncontenitor...  \n",
      "2     forma: Oggetto\\nsupporto: Quaderno\\ncontenitor...  \n",
      "3     forma: Oggetto\\nsupporto: Quaderno\\ncontenitor...  \n",
      "4     forma: Oggetto\\nsupporto: Quaderno\\ncontenitor...  \n",
      "...                                                 ...  \n",
      "1578  forma: Manoscritto\\nsupporto: Foglio\\ncontenit...  \n",
      "1579  forma: Manoscritto\\nsupporto: Foglio\\ncontenit...  \n",
      "1580  forma: Manoscritto\\nsupporto: Foglio\\ncontenit...  \n",
      "1581  forma: Manoscritto\\nsupporto: Foglio\\ncontenit...  \n",
      "1582  forma: Manoscritto\\nsupporto: Foglio\\ncontenit...  \n",
      "\n",
      "[1583 rows x 3 columns]\n"
     ]
    },
    {
     "name": "stderr",
     "output_type": "stream",
     "text": [
      "/var/folders/qz/b4z_rj3s15jbrn1l_dv90b9c0000gn/T/ipykernel_2789/2067586204.py:30: FutureWarning: iteritems is deprecated and will be removed in a future version. Use .items instead.\n",
      "  for column_name, value in row.iteritems():\n",
      "/var/folders/qz/b4z_rj3s15jbrn1l_dv90b9c0000gn/T/ipykernel_2789/2067586204.py:30: FutureWarning: iteritems is deprecated and will be removed in a future version. Use .items instead.\n",
      "  for column_name, value in row.iteritems():\n"
     ]
    }
   ],
   "source": [
    "import pandas as pd\n",
    "\n",
    "\n",
    "\n",
    "# Specify the columns to merge for the original group, first group, and second group\n",
    "columns_to_merge_original_group = ['archivio', 'fondo', 'serie', 'sottoserie', 'faldone', 'unità']\n",
    "columns_to_merge_first_group = ['opera', 'schede tematiche', 'descrizione', 'tipo', 'luogo', 'data', 'lib']\n",
    "columns_to_merge_second_group = ['forma', 'supporto', 'contenitore', 'provenienza', 'lingua',\n",
    "                                 'stato di conservazione', 'sommario', 'collana']\n",
    "\n",
    "# Define a function to merge columns in the specified format (with column names)\n",
    "def merge_original_group(row, columns):\n",
    "    merged_values = []\n",
    "    for column_name in columns:\n",
    "        if pd.notnull(row[column_name]):\n",
    "            value = row[column_name]\n",
    "            if isinstance(value, str):  # Check if the value is a string\n",
    "                merged_values.append(f\"{column_name}: {value}\")\n",
    "            else:  # If the value is not a string, convert it to a string\n",
    "                merged_values.append(f\"{column_name}: {str(value)}\")\n",
    "    return ' / '.join(merged_values)\n",
    "\n",
    "# Merge and format columns in the original group\n",
    "df['Merged_Column_Original_Group'] = df.apply(lambda x: merge_original_group(x, columns_to_merge_original_group), axis=1)\n",
    "\n",
    "\n",
    "# Define a function to merge columns in the specified format (with column names) and separate with a new line\n",
    "def merge_with_different_format(row, columns):\n",
    "    merged_values = []\n",
    "    for column_name, value in row.iteritems():\n",
    "        if pd.notnull(value):\n",
    "            if column_name in columns:\n",
    "                merged_values.append(f\"{column_name}: {value}\")\n",
    "    return '\\n'.join(merged_values)  # Separate with new line\n",
    "\n",
    "# Merge the columns from the first group into a new column with the specified format\n",
    "df['Merged_Column_First_Group'] = df.apply(lambda x: merge_with_different_format(x, columns_to_merge_first_group), axis=1)\n",
    "\n",
    "# Merge the columns from the second group into another new column with the specified format\n",
    "df['Merged_Column_Second_Group'] = df.apply(lambda x: merge_with_different_format(x, columns_to_merge_second_group), axis=1)\n",
    "\n",
    "# Create a new DataFrame containing only the required merged columns\n",
    "new_df_with_merged_columns = df[['Merged_Column_Original_Group', 'Merged_Column_First_Group', 'Merged_Column_Second_Group']].copy()\n",
    "\n",
    "# Replace 'lib' with 'library' in the 'Merged_Column_First_Group' column\n",
    "new_df_with_merged_columns['Merged_Column_First_Group'] = new_df_with_merged_columns['Merged_Column_First_Group'].str.replace('lib', 'library')\n",
    "\n",
    "print(new_df_with_merged_columns)\n"
   ]
  },
  {
   "cell_type": "markdown",
   "metadata": {},
   "source": [
    "I renamed the columns accordingly and then I saved them in both Excel and CSV format."
   ]
  },
  {
   "cell_type": "code",
   "execution_count": 13,
   "metadata": {},
   "outputs": [
    {
     "name": "stdout",
     "output_type": "stream",
     "text": [
      "                                   Archival Description  \\\n",
      "0     archivio: Archivio Bonsanti / fondo: Fondo Gad...   \n",
      "1     archivio: Archivio Bonsanti / fondo: Fondo Gad...   \n",
      "2     archivio: Archivio Bonsanti / fondo: Fondo Gad...   \n",
      "3     archivio: Archivio Bonsanti / fondo: Fondo Gad...   \n",
      "4     archivio: Archivio Bonsanti / fondo: Fondo Gad...   \n",
      "...                                                 ...   \n",
      "1578  archivio: Archivio Biblioteca Trivulziana / fo...   \n",
      "1579  archivio: Archivio Biblioteca Trivulziana / fo...   \n",
      "1580  archivio: Archivio Biblioteca Trivulziana / fo...   \n",
      "1581  archivio: Archivio Biblioteca Trivulziana / fo...   \n",
      "1582  archivio: Archivio Biblioteca Trivulziana / fo...   \n",
      "\n",
      "                                   Internal Description  \\\n",
      "0     opera: Appunti giovanili, scolastici e univers...   \n",
      "1     opera: Appunti giovanili, scolastici e univers...   \n",
      "2     opera: Quaderni militari\\nschede tematiche: Ap...   \n",
      "3     opera: Quaderni di studio del tedesco\\nschede ...   \n",
      "4     opera: Quaderni di studio del tedesco\\nschede ...   \n",
      "...                                                 ...   \n",
      "1578  schede tematiche: Let\\nluogo: Roma\\ntipo: Lett...   \n",
      "1579  schede tematiche: Let\\nluogo: Roma\\ntipo: Lett...   \n",
      "1580  schede tematiche: Let\\nluogo: Roma\\ntipo: Lett...   \n",
      "1581  schede tematiche: Let\\nluogo: Roma\\ntipo: Lett...   \n",
      "1582  schede tematiche: Let\\nluogo: Roma\\ntipo: Lett...   \n",
      "\n",
      "                                   External Description  \n",
      "0     forma: Oggetto\\nsupporto: Quaderno\\ncontenitor...  \n",
      "1     forma: Oggetto\\nsupporto: Quaderno\\ncontenitor...  \n",
      "2     forma: Oggetto\\nsupporto: Quaderno\\ncontenitor...  \n",
      "3     forma: Oggetto\\nsupporto: Quaderno\\ncontenitor...  \n",
      "4     forma: Oggetto\\nsupporto: Quaderno\\ncontenitor...  \n",
      "...                                                 ...  \n",
      "1578  forma: Manoscritto\\nsupporto: Foglio\\ncontenit...  \n",
      "1579  forma: Manoscritto\\nsupporto: Foglio\\ncontenit...  \n",
      "1580  forma: Manoscritto\\nsupporto: Foglio\\ncontenit...  \n",
      "1581  forma: Manoscritto\\nsupporto: Foglio\\ncontenit...  \n",
      "1582  forma: Manoscritto\\nsupporto: Foglio\\ncontenit...  \n",
      "\n",
      "[1583 rows x 3 columns]\n"
     ]
    }
   ],
   "source": [
    "import pandas as pd\n",
    "\n",
    "# Assuming you have already loaded the Excel file into a DataFrame named 'df' with merged columns\n",
    "\n",
    "# Renaming columns in the merged DataFrame\n",
    "new_column_names = {\n",
    "    'Merged_Column_Original_Group': 'Archival Description',\n",
    "    'Merged_Column_First_Group': 'Internal Description',\n",
    "    'Merged_Column_Second_Group': 'External Description',\n",
    "    # Add other columns to rename in a similar fashion\n",
    "}\n",
    "\n",
    "# Apply the rename operation to the DataFrame\n",
    "df_with_renamed_columns = new_df_with_merged_columns.rename(columns=new_column_names)\n",
    "\n",
    "# Display the DataFrame with renamed columns\n",
    "print(df_with_renamed_columns)\n"
   ]
  },
  {
   "cell_type": "code",
   "execution_count": 14,
   "metadata": {},
   "outputs": [],
   "source": [
    "df_with_renamed_columns.to_csv(\"provamergecolumntipo.csv\")"
   ]
  },
  {
   "cell_type": "code",
   "execution_count": 15,
   "metadata": {},
   "outputs": [],
   "source": [
    "df_with_renamed_columns.to_excel(\"provamergecolumntipo.xlsx\")"
   ]
  }
 ],
 "metadata": {
  "kernelspec": {
   "display_name": "Python 3",
   "language": "python",
   "name": "python3"
  },
  "language_info": {
   "codemirror_mode": {
    "name": "ipython",
    "version": 3
   },
   "file_extension": ".py",
   "mimetype": "text/x-python",
   "name": "python",
   "nbconvert_exporter": "python",
   "pygments_lexer": "ipython3",
   "version": "3.10.0"
  }
 },
 "nbformat": 4,
 "nbformat_minor": 2
}
