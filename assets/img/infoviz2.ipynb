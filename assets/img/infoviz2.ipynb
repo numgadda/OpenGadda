{
 "cells": [
  {
   "cell_type": "code",
   "execution_count": 2,
   "metadata": {},
   "outputs": [
    {
     "name": "stdout",
     "output_type": "stream",
     "text": [
      "http://www.wikidata.org/entity/Q9388534 25\n",
      "http://www.wikidata.org/entity/Q5 24\n",
      "http://www.wikidata.org/entity/Q31855 5\n"
     ]
    }
   ],
   "source": [
    "#uncomment if colab\n",
    "#!pip install rdflib \n",
    "import rdflib\n",
    "\n",
    "# create an empty Graph\n",
    "g = rdflib.ConjunctiveGraph()\n",
    "\n",
    "# parse a local RDF file by specifying the format\n",
    "result = g.parse(\"/Users/martinapensalfini/Documents/Digital Texts In Humanities/wid.nq\", format='nquads')\n",
    "\n",
    "# perform the query over the graph\n",
    "query_results = g.query(\n",
    "    \"\"\"SELECT ?class (COUNT(?individual) AS ?tot)\n",
    "       WHERE { ?individual a ?class .}\n",
    "       GROUP BY ?class ?tot\"\"\")\n",
    "\n",
    "# retrieve a list of tuples\n",
    "for query_res in query_results:\n",
    "    print(query_res[0], query_res[\"tot\"]) # notice the two alternative ways to recall values in the tuple"
   ]
  },
  {
   "cell_type": "code",
   "execution_count": 3,
   "metadata": {},
   "outputs": [],
   "source": [
    "query = \"\"\"SELECT ?class (COUNT(?individual) AS ?tot)\n",
    "       WHERE { ?individual a ?class .}\n",
    "       GROUP BY ?class ?tot\"\"\"\n",
    "\n",
    "endpoint = \"http://artchives.fondazionezeri.unibo.it/sparql\"\n",
    "\n",
    "results = \"\"\"\n",
    "{\n",
    "  \"head\" : {\n",
    "    \"vars\" : [ \"class\", \"tot\" ]\n",
    "  },\n",
    "  \"results\" : {\n",
    "    \"bindings\" : [ {\n",
    "      \"class\" : {\n",
    "        \"type\" : \"uri\",\n",
    "        \"value\" : \"http://www.wikidata.org/entity/Q31855\"\n",
    "      },\n",
    "      \"tot\" : {\n",
    "        \"datatype\" : \"http://www.w3.org/2001/XMLSchema#integer\",\n",
    "        \"type\" : \"literal\",\n",
    "        \"value\" : \"6\"\n",
    "      }\n",
    "    }, {\n",
    "      \"class\" : {\n",
    "        \"type\" : \"uri\",\n",
    "        \"value\" : \"http://www.wikidata.org/entity/Q5\"\n",
    "      },\n",
    "      \"tot\" : {\n",
    "        \"datatype\" : \"http://www.w3.org/2001/XMLSchema#integer\",\n",
    "        \"type\" : \"literal\",\n",
    "        \"value\" : \"25\"\n",
    "      }\n",
    "    }, {\n",
    "      \"class\" : {\n",
    "        \"type\" : \"uri\",\n",
    "        \"value\" : \"http://www.wikidata.org/entity/Q9388534\"\n",
    "      },\n",
    "      \"tot\" : {\n",
    "        \"datatype\" : \"http://www.w3.org/2001/XMLSchema#integer\",\n",
    "        \"type\" : \"literal\",\n",
    "        \"value\" : \"26\"\n",
    "      }\n",
    "    } ]\n",
    "  }\n",
    "}\n",
    "\"\"\""
   ]
  },
  {
   "cell_type": "code",
   "execution_count": 4,
   "metadata": {},
   "outputs": [
    {
     "name": "stdout",
     "output_type": "stream",
     "text": [
      "{'head': {'vars': ['class', 'tot']},\n",
      " 'results': {'bindings': [{'class': {'type': 'uri',\n",
      "                                     'value': 'http://www.wikidata.org/entity/Q31855'},\n",
      "                           'tot': {'datatype': 'http://www.w3.org/2001/XMLSchema#integer',\n",
      "                                   'type': 'literal',\n",
      "                                   'value': '8'}},\n",
      "                          {'class': {'type': 'uri',\n",
      "                                     'value': 'http://www.wikidata.org/entity/Q5'},\n",
      "                           'tot': {'datatype': 'http://www.w3.org/2001/XMLSchema#integer',\n",
      "                                   'type': 'literal',\n",
      "                                   'value': '27'}},\n",
      "                          {'class': {'type': 'uri',\n",
      "                                     'value': 'http://www.wikidata.org/entity/Q9388534'},\n",
      "                           'tot': {'datatype': 'http://www.w3.org/2001/XMLSchema#integer',\n",
      "                                   'type': 'literal',\n",
      "                                   'value': '28'}}]}}\n"
     ]
    }
   ],
   "source": [
    "import json , pprint\n",
    "\n",
    "pp = pprint.PrettyPrinter(indent=1) # just to pretty print results\n",
    "\n",
    "# uncomment if you run the code locally\n",
    "# with open('../resources/sparql_query_result.json','r') as results:\n",
    "#    data = json.load(results)  \n",
    "#    pprint.pprint(data)\n",
    "\n",
    "# if you run the code in colab\n",
    "import requests\n",
    "response = requests.get(\"https://raw.githubusercontent.com/marilenadaquino/information_visualization/main/2022-2023/resources/sparql_query_result.json\")\n",
    "data = json.loads(response.text)\n",
    "pprint.pprint(data)"
   ]
  },
  {
   "cell_type": "code",
   "execution_count": 5,
   "metadata": {},
   "outputs": [
    {
     "name": "stdout",
     "output_type": "stream",
     "text": [
      "class\n",
      "tot\n"
     ]
    }
   ],
   "source": [
    "for column in data[\"head\"][\"vars\"]: # enter the list\n",
    "    print(column)"
   ]
  },
  {
   "cell_type": "code",
   "execution_count": 6,
   "metadata": {},
   "outputs": [
    {
     "name": "stdout",
     "output_type": "stream",
     "text": [
      "The class http://www.wikidata.org/entity/Q31855 has 8 individuals\n",
      "The class http://www.wikidata.org/entity/Q5 has 27 individuals\n",
      "The class http://www.wikidata.org/entity/Q9388534 has 28 individuals\n"
     ]
    }
   ],
   "source": [
    "for result in data[\"results\"][\"bindings\"]:  # enter the list of dictionaries // do you remember \"for row in rows\"?\n",
    "    res_class = result['class']['value']    # the value of the cell under column \"class\"\n",
    "    res_tot = result['tot']['value']        # the value of the cell under column \"tot\"\n",
    "    print('The class', res_class,'has', res_tot, 'individuals')"
   ]
  },
  {
   "cell_type": "code",
   "execution_count": 7,
   "metadata": {},
   "outputs": [
    {
     "name": "stdout",
     "output_type": "stream",
     "text": [
      "http://wikiba.se/ontology#Dump http://creativecommons.org/ns#license http://creativecommons.org/publicdomain/zero/1.0/\n",
      "http://wikiba.se/ontology#Dump http://schema.org/softwareVersion 1.0.0\n",
      "http://wikiba.se/ontology#Dump http://schema.org/dateModified 2021-09-24T23:00:01Z\n",
      "http://wikiba.se/ontology#Dump http://schema.org/dateModified 2021-09-24T23:00:04Z\n",
      "http://wikiba.se/ontology#Dump http://schema.org/dateModified 2021-09-24T23:00:08Z\n",
      "http://wikiba.se/ontology#Dump http://schema.org/dateModified 2021-09-24T23:00:12Z\n",
      "http://wikiba.se/ontology#Dump http://schema.org/dateModified 2021-09-24T23:00:17Z\n",
      "http://wikiba.se/ontology#Dump http://schema.org/dateModified 2021-09-24T23:00:21Z\n",
      "http://wikiba.se/ontology#Dump http://schema.org/dateModified 2021-09-24T23:00:26Z\n",
      "http://wikiba.se/ontology#Dump http://schema.org/dateModified 2021-09-24T23:00:29Z\n"
     ]
    }
   ],
   "source": [
    "# uncomment if you run on colab\n",
    "#!pip install SPARQLWrapper\n",
    "from SPARQLWrapper import SPARQLWrapper, JSON\n",
    "import ssl\n",
    "\n",
    "# if you have mac and you run this locally, uncomment\n",
    "ssl._create_default_https_context = ssl._create_unverified_context\n",
    "\n",
    "# get the endpoint API\n",
    "wikidata_endpoint = \"https://query.wikidata.org/bigdata/namespace/wdq/sparql\"\n",
    "\n",
    "# prepare the query : 10 random triples\n",
    "my_SPARQL_query = \"\"\"\n",
    "SELECT *\n",
    "WHERE {?s ?p ?o}\n",
    "LIMIT 10\n",
    "\"\"\"\n",
    "\n",
    "# set the endpoint \n",
    "sparql_wd = SPARQLWrapper(wikidata_endpoint)\n",
    "# set the query\n",
    "sparql_wd.setQuery(my_SPARQL_query)\n",
    "# set the returned format\n",
    "sparql_wd.setReturnFormat(JSON)\n",
    "# get the results\n",
    "results = sparql_wd.query().convert()\n",
    "\n",
    "# manipulate the result\n",
    "for result in results[\"results\"][\"bindings\"]:\n",
    "    print(result[\"s\"][\"value\"], result[\"p\"][\"value\"], result[\"o\"][\"value\"])"
   ]
  },
  {
   "cell_type": "code",
   "execution_count": 8,
   "metadata": {},
   "outputs": [
    {
     "name": "stdout",
     "output_type": "stream",
     "text": [
      "{'<http://www.wikidata.org/entity/Q537874>', '<http://www.wikidata.org/entity/Q1629748>', '<http://www.wikidata.org/entity/Q60185>', '<http://www.wikidata.org/entity/Q90407>', '<http://www.wikidata.org/entity/Q61913691>', '<http://www.wikidata.org/entity/Q19997512>', '<http://www.wikidata.org/entity/Q1089074>', '<http://www.wikidata.org/entity/Q1712683>', '<http://www.wikidata.org/entity/Q88907>', '<http://www.wikidata.org/entity/Q995470>', '<http://www.wikidata.org/entity/Q6700132>', '<http://www.wikidata.org/entity/Q18935222>', '<http://www.wikidata.org/entity/Q1296486>', '<http://www.wikidata.org/entity/Q1641821>', '<http://www.wikidata.org/entity/Q3057287>', '<http://www.wikidata.org/entity/Q457739>', '<http://www.wikidata.org/entity/Q1373290>', '<http://www.wikidata.org/entity/Q55453618>', '<http://www.wikidata.org/entity/Q2824734>', '<http://www.wikidata.org/entity/Q85761254>', '<http://www.wikidata.org/entity/Q1271052>', '<http://www.wikidata.org/entity/Q41616785>', '<http://www.wikidata.org/entity/Q3051533>', '<http://www.wikidata.org/entity/Q1715096>'}\n"
     ]
    }
   ],
   "source": [
    "from rdflib import Namespace , Literal , URIRef\n",
    "from rdflib.namespace import RDF , RDFS\n",
    "\n",
    "# bind the uncommon namespaces\n",
    "wd = Namespace(\"http://www.wikidata.org/entity/\") # remember that a prefix matches a URI until the last slash (or hashtag #)\n",
    "wdt = Namespace(\"http://www.wikidata.org/prop/direct/\")\n",
    "art = Namespace(\"https://w3id.org/artchives/\")\n",
    "\n",
    "# Get the list of art historians in our graph \"g\"\n",
    "arthistorians_list = set()\n",
    "\n",
    "# iterate over the triples in the graph\n",
    "for s,p,o in g.triples(( None, wdt.P170, None)):   # people \"o\" are the creator \"wdt.P170\" of a collection \"s\"\n",
    "    if \"wikidata.org/entity/\" in str(o):           # look for the substring to filter wikidata entities only\n",
    "        arthistorians_list.add('<' + str(o) + '>')     # remember to transform them in strings! \n",
    "    \n",
    "print(arthistorians_list)"
   ]
  },
  {
   "cell_type": "code",
   "execution_count": 9,
   "metadata": {},
   "outputs": [],
   "source": [
    "# prepare the values to be queried\n",
    "historians = ' '.join(arthistorians_list) # <uri1> <uri2> <uri3> ... <uriN>\n",
    "\n",
    "# prepare the query\n",
    "birthplace_query = \"\"\"\n",
    "PREFIX wdt: <http://www.wikidata.org/prop/direct/>\n",
    "SELECT DISTINCT ?historian ?birthplace ?birthplace_label\n",
    "WHERE {\n",
    "    VALUES ?historian {\"\"\"+historians+\"\"\"} . # look how we include a variable in a query string!\n",
    "    ?historian wdt:P19 ?birthplace . \n",
    "    ?birthplace rdfs:label ?birthplace_label .\n",
    "    FILTER (langMatches(lang(?birthplace_label), \"EN\"))\n",
    "    } \n",
    "\"\"\""
   ]
  },
  {
   "cell_type": "code",
   "execution_count": 10,
   "metadata": {},
   "outputs": [],
   "source": [
    "# set the endpoint \n",
    "sparql_wd = SPARQLWrapper(wikidata_endpoint)\n",
    "# set the query\n",
    "sparql_wd.setQuery(birthplace_query)\n",
    "# set the returned format\n",
    "sparql_wd.setReturnFormat(JSON)\n",
    "# get the results\n",
    "results = sparql_wd.query().convert()"
   ]
  },
  {
   "cell_type": "code",
   "execution_count": 11,
   "metadata": {},
   "outputs": [
    {
     "name": "stdout",
     "output_type": "stream",
     "text": [
      "historian: http://www.wikidata.org/entity/Q85761254\n",
      "found: http://www.wikidata.org/entity/Q64 Berlin\n",
      "historian: http://www.wikidata.org/entity/Q85761254\n",
      "found: http://www.wikidata.org/entity/Q64 Berlin\n",
      "historian: http://www.wikidata.org/entity/Q85761254\n",
      "found: http://www.wikidata.org/entity/Q64 Berlin\n",
      "historian: http://www.wikidata.org/entity/Q18935222\n",
      "found: http://www.wikidata.org/entity/Q64 Berlin\n",
      "historian: http://www.wikidata.org/entity/Q18935222\n",
      "found: http://www.wikidata.org/entity/Q64 Berlin\n",
      "historian: http://www.wikidata.org/entity/Q18935222\n",
      "found: http://www.wikidata.org/entity/Q64 Berlin\n",
      "historian: http://www.wikidata.org/entity/Q1629748\n",
      "found: http://www.wikidata.org/entity/Q64 Berlin\n",
      "historian: http://www.wikidata.org/entity/Q1629748\n",
      "found: http://www.wikidata.org/entity/Q64 Berlin\n",
      "historian: http://www.wikidata.org/entity/Q1629748\n",
      "found: http://www.wikidata.org/entity/Q64 Berlin\n",
      "historian: http://www.wikidata.org/entity/Q537874\n",
      "found: http://www.wikidata.org/entity/Q84 London\n",
      "historian: http://www.wikidata.org/entity/Q537874\n",
      "found: http://www.wikidata.org/entity/Q84 London\n",
      "historian: http://www.wikidata.org/entity/Q537874\n",
      "found: http://www.wikidata.org/entity/Q84 London\n",
      "historian: http://www.wikidata.org/entity/Q1089074\n",
      "found: http://www.wikidata.org/entity/Q220 Rome\n",
      "historian: http://www.wikidata.org/entity/Q6700132\n",
      "found: http://www.wikidata.org/entity/Q220 Rome\n",
      "historian: http://www.wikidata.org/entity/Q1089074\n",
      "found: http://www.wikidata.org/entity/Q220 Rome\n",
      "historian: http://www.wikidata.org/entity/Q6700132\n",
      "found: http://www.wikidata.org/entity/Q220 Rome\n",
      "historian: http://www.wikidata.org/entity/Q1373290\n",
      "found: http://www.wikidata.org/entity/Q495 Turin\n",
      "historian: http://www.wikidata.org/entity/Q1373290\n",
      "found: http://www.wikidata.org/entity/Q495 Turin\n",
      "historian: http://www.wikidata.org/entity/Q1373290\n",
      "found: http://www.wikidata.org/entity/Q495 Turin\n",
      "historian: http://www.wikidata.org/entity/Q1296486\n",
      "found: http://www.wikidata.org/entity/Q715 Heilbronn\n",
      "historian: http://www.wikidata.org/entity/Q1296486\n",
      "found: http://www.wikidata.org/entity/Q715 Heilbronn\n",
      "historian: http://www.wikidata.org/entity/Q1296486\n",
      "found: http://www.wikidata.org/entity/Q715 Heilbronn\n",
      "historian: http://www.wikidata.org/entity/Q457739\n",
      "found: http://www.wikidata.org/entity/Q649 Moscow\n",
      "historian: http://www.wikidata.org/entity/Q457739\n",
      "found: http://www.wikidata.org/entity/Q649 Moscow\n",
      "historian: http://www.wikidata.org/entity/Q457739\n",
      "found: http://www.wikidata.org/entity/Q649 Moscow\n",
      "historian: http://www.wikidata.org/entity/Q2824734\n",
      "found: http://www.wikidata.org/entity/Q279 Modena\n",
      "historian: http://www.wikidata.org/entity/Q2824734\n",
      "found: http://www.wikidata.org/entity/Q279 Modena\n",
      "historian: http://www.wikidata.org/entity/Q61913691\n",
      "found: http://www.wikidata.org/entity/Q2044 Florence\n",
      "historian: http://www.wikidata.org/entity/Q88907\n",
      "found: http://www.wikidata.org/entity/Q1726 Munich\n",
      "historian: http://www.wikidata.org/entity/Q88907\n",
      "found: http://www.wikidata.org/entity/Q1726 Munich\n",
      "historian: http://www.wikidata.org/entity/Q88907\n",
      "found: http://www.wikidata.org/entity/Q1726 Munich\n",
      "historian: http://www.wikidata.org/entity/Q60185\n",
      "found: http://www.wikidata.org/entity/Q1055 Hamburg\n",
      "historian: http://www.wikidata.org/entity/Q60185\n",
      "found: http://www.wikidata.org/entity/Q1055 Hamburg\n",
      "historian: http://www.wikidata.org/entity/Q60185\n",
      "found: http://www.wikidata.org/entity/Q1055 Hamburg\n",
      "historian: http://www.wikidata.org/entity/Q61913691\n",
      "found: http://www.wikidata.org/entity/Q2044 Florence\n",
      "historian: http://www.wikidata.org/entity/Q61913691\n",
      "found: http://www.wikidata.org/entity/Q2044 Florence\n",
      "historian: http://www.wikidata.org/entity/Q1641821\n",
      "found: http://www.wikidata.org/entity/Q3949 Unna\n",
      "historian: http://www.wikidata.org/entity/Q1641821\n",
      "found: http://www.wikidata.org/entity/Q3949 Unna\n",
      "historian: http://www.wikidata.org/entity/Q1641821\n",
      "found: http://www.wikidata.org/entity/Q3949 Unna\n",
      "historian: http://www.wikidata.org/entity/Q90407\n",
      "found: http://www.wikidata.org/entity/Q3075 Fürth\n",
      "historian: http://www.wikidata.org/entity/Q90407\n",
      "found: http://www.wikidata.org/entity/Q3075 Fürth\n",
      "historian: http://www.wikidata.org/entity/Q90407\n",
      "found: http://www.wikidata.org/entity/Q3075 Fürth\n",
      "historian: http://www.wikidata.org/entity/Q55453618\n",
      "found: http://www.wikidata.org/entity/Q13367 Forlì\n",
      "historian: http://www.wikidata.org/entity/Q55453618\n",
      "found: http://www.wikidata.org/entity/Q13367 Forlì\n",
      "historian: http://www.wikidata.org/entity/Q55453618\n",
      "found: http://www.wikidata.org/entity/Q13367 Forlì\n",
      "historian: http://www.wikidata.org/entity/Q1712683\n",
      "found: http://www.wikidata.org/entity/Q23008 Mosbach\n",
      "historian: http://www.wikidata.org/entity/Q1712683\n",
      "found: http://www.wikidata.org/entity/Q23008 Mosbach\n",
      "historian: http://www.wikidata.org/entity/Q1712683\n",
      "found: http://www.wikidata.org/entity/Q23008 Mosbach\n",
      "historian: http://www.wikidata.org/entity/Q995470\n",
      "found: http://www.wikidata.org/entity/Q242478 Levoča\n",
      "historian: http://www.wikidata.org/entity/Q995470\n",
      "found: http://www.wikidata.org/entity/Q242478 Levoča\n",
      "historian: http://www.wikidata.org/entity/Q995470\n",
      "found: http://www.wikidata.org/entity/Q242478 Levoča\n",
      "historian: http://www.wikidata.org/entity/Q3051533\n",
      "found: http://www.wikidata.org/entity/Q993164 Epsom\n",
      "historian: http://www.wikidata.org/entity/Q3051533\n",
      "found: http://www.wikidata.org/entity/Q993164 Epsom\n",
      "historian: http://www.wikidata.org/entity/Q3051533\n",
      "found: http://www.wikidata.org/entity/Q993164 Epsom\n",
      "historian: http://www.wikidata.org/entity/Q41616785\n",
      "found: http://www.wikidata.org/entity/Q1971847 Nauheim\n",
      "historian: http://www.wikidata.org/entity/Q3057287\n",
      "found: http://www.wikidata.org/entity/Q671011 Jördenstorf\n",
      "historian: http://www.wikidata.org/entity/Q3057287\n",
      "found: http://www.wikidata.org/entity/Q671011 Jördenstorf\n",
      "historian: http://www.wikidata.org/entity/Q3057287\n",
      "found: http://www.wikidata.org/entity/Q671011 Jördenstorf\n",
      "historian: http://www.wikidata.org/entity/Q1715096\n",
      "found: http://www.wikidata.org/entity/Q525409 Staßfurt\n"
     ]
    },
    {
     "data": {
      "text/plain": [
       "<Graph identifier=N223b356a09224e94b2e391ffc7ba79fa (<class 'rdflib.graph.ConjunctiveGraph'>)>"
      ]
     },
     "execution_count": 11,
     "metadata": {},
     "output_type": "execute_result"
    }
   ],
   "source": [
    "# manipulate the result\n",
    "for result in results[\"results\"][\"bindings\"]:\n",
    "    historian_uri = result[\"historian\"][\"value\"]\n",
    "    print(\"historian:\", historian_uri)\n",
    "    if \"birthplace\" in result: # some historians may have no birthplace recorded in Wikidata!\n",
    "        birthplace = result[\"birthplace\"][\"value\"]\n",
    "        if \"birthplace_label\" in result: \n",
    "            birthplace_label = result[\"birthplace_label\"][\"value\"]\n",
    "            print(\"found:\", birthplace, birthplace_label)\n",
    "            \n",
    "            # only if both uri and label are found we add them to the graph\n",
    "            g.add(( URIRef(historian_uri) , URIRef(wdt.P19) , URIRef(birthplace) ))\n",
    "            g.add(( URIRef(birthplace) , RDFS.label , Literal(birthplace_label) ))\n",
    "    else:\n",
    "        print(\"nothing found in wikidata :(\")\n",
    "\n",
    "g.serialize(destination='artchives_birthplaces.nq', format='nquads')"
   ]
  }
 ],
 "metadata": {
  "kernelspec": {
   "display_name": "Python 3 (ipykernel)",
   "language": "python",
   "name": "python3"
  },
  "language_info": {
   "codemirror_mode": {
    "name": "ipython",
    "version": 3
   },
   "file_extension": ".py",
   "mimetype": "text/x-python",
   "name": "python",
   "nbconvert_exporter": "python",
   "pygments_lexer": "ipython3",
   "version": "3.10.0"
  },
  "vscode": {
   "interpreter": {
    "hash": "aee8b7b246df8f9039afb4144a1f6fd8d2ca17a180786b69acc140d282b71a49"
   }
  }
 },
 "nbformat": 4,
 "nbformat_minor": 2
}
