{
 "cells": [
  {
   "cell_type": "code",
   "execution_count": 2,
   "metadata": {},
   "outputs": [],
   "source": [
    "# uncomment if colab\n",
    "#!pip install rdflib\n",
    "import rdflib\n",
    "from rdflib import Namespace , Literal , URIRef\n",
    "from rdflib.namespace import RDF , RDFS\n",
    "\n",
    "# bind the uncommon namespaces\n",
    "wd = Namespace(\"http://www.wikidata.org/entity/\") # remember that a prefix matches a URI until the last slash (or hashtag #)\n",
    "wdt = Namespace(\"http://www.wikidata.org/prop/direct/\")\n",
    "art = Namespace(\"https://w3id.org/artchives/\")\n",
    "\n",
    "# create an empty Graph\n",
    "g = rdflib.ConjunctiveGraph()\n",
    "\n",
    "# parse a local RDF file by specifying the format\n",
    "result = g.parse(\"/Users/martinapensalfini/Documents/Digital Texts In Humanities/wid.nq\", format='nquads')"
   ]
  },
  {
   "cell_type": "code",
   "execution_count": 4,
   "metadata": {},
   "outputs": [
    {
     "name": "stdout",
     "output_type": "stream",
     "text": [
      "19th century  -  Archivio Luisa Vertova\n",
      "neoclassicism  -  Fototeca Stefano Tumidei\n",
      "neoclassicism  -  Archivio Luisa Vertova\n",
      "14th century  -  Fototeca Fahy\n",
      "modern art  -  Leo Steinberg research papers\n",
      "18th century  -  Fototeca Stefano Tumidei\n",
      "18th century  -  Luigi Salerno research papers\n",
      "18th century  -  Archivio Luisa Vertova\n",
      "Romanticism  -  Archivio Luisa Vertova\n",
      "Cold War  -  Nachlass Ulrich Middeldorf\n",
      "15th century  -  Fototeca Fahy\n",
      "15th century  -  Fototeca Zeri\n",
      "15th century  -  Fototeca Stefano Tumidei\n",
      "15th century  -  John Pope-Hennessy papers\n",
      "15th century  -  Fototeca Julian Kliemann\n",
      "15th century  -  Gustav Ludwig-Vermächtnis\n",
      "15th century  -  Nachlass Fritz Heinemann, Notizen zur venezianischen Malerei\n",
      "15th century  -  Archivio Luisa Vertova\n",
      "17th century  -  Fototeca Zeri\n",
      "17th century  -  Fototeca Stefano Tumidei\n",
      "17th century  -  Julius S. Held papers\n",
      "17th century  -  Nachlass Wolfgang Lotz\n",
      "17th century  -  Fototeca Julian Kliemann\n",
      "17th century  -  Nachlass Fritz Heinemann, Notizen zur venezianischen Malerei\n",
      "17th century  -  Luigi Salerno research papers\n",
      "17th century  -  Archivio Luisa Vertova\n",
      "Renaissance  -  Fototeca Fahy\n",
      "Renaissance  -  Fototeca Zeri\n",
      "Renaissance  -  Fototeca Stefano Tumidei\n",
      "Renaissance  -  Nachlass Ernst Steinmann\n",
      "Renaissance  -  John Pope-Hennessy papers\n",
      "Renaissance  -  Nachlass Richard Krautheimer\n",
      "Renaissance  -  Nachlass Wolfgang Lotz\n",
      "Renaissance  -  Nachlass Werner Cohn\n",
      "Renaissance  -  Nachlass Cornelius von Fabriczy\n",
      "Renaissance  -  Fototeca Julian Kliemann\n",
      "Renaissance  -  Nachlass Fritz Heinemann, Notizen zur venezianischen Malerei\n",
      "Renaissance  -  Fondo Aby Warburg\n",
      "Renaissance  -  Ulrich Middledorf papers\n",
      "Renaissance  -  Leo Steinberg research papers\n",
      "Renaissance  -  Archivio Luisa Vertova\n",
      "early Christian art and architecture  -  Nachlass Richard Krautheimer\n",
      "early Christian art and architecture  -  Ernst Kitzinger papers, 1931-1995\n",
      "16th century  -  Fototeca Fahy\n",
      "16th century  -  Fototeca Zeri\n",
      "16th century  -  Fototeca Stefano Tumidei\n",
      "16th century  -  Julius S. Held papers\n",
      "16th century  -  Nachlass Wolfgang Lotz\n",
      "16th century  -  Nachlass Kurt Badt\n",
      "16th century  -  Fototeca Julian Kliemann\n",
      "16th century  -  Gustav Ludwig-Vermächtnis\n",
      "16th century  -  Nachlass Fritz Heinemann, Notizen zur venezianischen Malerei\n",
      "16th century  -  Archivio Luisa Vertova\n",
      "Byzantine art  -  Nachlass Richard Krautheimer\n",
      "Byzantine art  -  Ernst Kitzinger papers, 1931-1995\n",
      "Mannerism  -  Fototeca Zeri\n",
      "Mannerism  -  Nachlass Kurt Badt\n",
      "Mannerism  -  Fototeca Julian Kliemann\n",
      "Mannerism  -  Nachlass Fritz Heinemann, Notizen zur venezianischen Malerei\n",
      "Mannerism  -  Ellis K. Waterhouse notebooks and research files\n",
      "Middle Ages  -  Fototeca Zeri\n",
      "Middle Ages  -  Nachlass Werner Cohn\n",
      "Middle Ages  -  Nachlass Kurt Badt\n",
      "Middle Ages  -  Ernst Kitzinger papers, 1931-1995\n",
      "Middle Ages  -  Nachlass Otto Lehmann-Brockhaus\n",
      "baroque  -  Fototeca Zeri\n",
      "baroque  -  Fototeca Stefano Tumidei\n",
      "baroque  -  Nachlass Richard Krautheimer\n",
      "baroque  -  Nachlass Wolfgang Lotz\n",
      "baroque  -  Nachlass Kurt Badt\n",
      "baroque  -  Fototeca Julian Kliemann\n",
      "baroque  -  Nachlass Fritz Heinemann, Notizen zur venezianischen Malerei\n",
      "baroque  -  Luigi Salerno research papers\n",
      "baroque  -  Ellis K. Waterhouse notebooks and research files\n"
     ]
    }
   ],
   "source": [
    "query_periods = g.query(\n",
    "    \"\"\"SELECT (SAMPLE(?coll_label) AS ?coll) (SAMPLE(?label) AS ?period_label) # we want only one label!\n",
    "    WHERE {\n",
    "        ?coll <https://w3id.org/artchives/hasSubjectPeriod> ?period ; \n",
    "              rdfs:label ?coll_label .\n",
    "        ?period rdfs:label ?label .\n",
    "    }\n",
    "    GROUP BY ?period ?coll\n",
    "    ORDER BY ?period_label\"\"\") \n",
    "\n",
    "# try the query on http://artchives.fondazionezeri.unibo.it/sparql to see the results!\n",
    "for coll, period in query_periods:\n",
    "  print(period.strip(), \" - \", coll)"
   ]
  }
 ],
 "metadata": {
  "kernelspec": {
   "display_name": "Python 3.10.0 64-bit",
   "language": "python",
   "name": "python3"
  },
  "language_info": {
   "codemirror_mode": {
    "name": "ipython",
    "version": 3
   },
   "file_extension": ".py",
   "mimetype": "text/x-python",
   "name": "python",
   "nbconvert_exporter": "python",
   "pygments_lexer": "ipython3",
   "version": "3.10.0"
  },
  "orig_nbformat": 4,
  "vscode": {
   "interpreter": {
    "hash": "aee8b7b246df8f9039afb4144a1f6fd8d2ca17a180786b69acc140d282b71a49"
   }
  }
 },
 "nbformat": 4,
 "nbformat_minor": 2
}
